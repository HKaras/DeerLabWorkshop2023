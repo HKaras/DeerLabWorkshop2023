{
 "cells": [
  {
   "cell_type": "markdown",
   "metadata": {
    "slideshow": {
     "slide_type": "slide"
    }
   },
   "source": [
    "# DeerLab Workshop 2023\n",
    "## EFEPR Summer School\n",
    "## Hugo Karas"
   ]
  },
  {
   "cell_type": "markdown",
   "metadata": {
    "slideshow": {
     "slide_type": "slide"
    }
   },
   "source": [
    "## What is DeerLab?"
   ]
  },
  {
   "cell_type": "markdown",
   "metadata": {},
   "source": [
    "DeerLab is an advanced python based software for analysing DEER/PELDOR data using Tikihnov regularisation"
   ]
  },
  {
   "cell_type": "markdown",
   "metadata": {},
   "source": []
  },
  {
   "cell_type": "markdown",
   "metadata": {
    "slideshow": {
     "slide_type": "subslide"
    }
   },
   "source": [
    "## Getting Started\n",
    "\n",
    "First we will look at processing a simple 4-pulse DEER trace"
   ]
  },
  {
   "cell_type": "code",
   "execution_count": null,
   "metadata": {},
   "outputs": [],
   "source": [
    "import deerlab as dl\n",
    "# We all need some other packages too\n",
    "import numpy as np # Numerical calculations and array handling\n",
    "import matplotlib.pyplot as plt # Plotting"
   ]
  },
  {
   "cell_type": "code",
   "execution_count": null,
   "metadata": {},
   "outputs": [],
   "source": [
    "t,V = dl.deerload('../data/example_4pdeer_4.DTA')\n",
    "\n",
    "# Plot the data\n",
    "plt.figure(figsize=(8,3))\n",
    "plt.plot(t,V.real,'.',label='data (real)')\n",
    "plt.plot(t,V.imag,'.',label='data (imag)')\n",
    "plt.xlabel('t (µs)')\n",
    "plt.ylabel('V (arb.u.)')\n",
    "plt.legend()\n",
    "plt.show()"
   ]
  },
  {
   "cell_type": "markdown",
   "metadata": {
    "slideshow": {
     "slide_type": "subslide"
    }
   },
   "source": [
    "## Pre-processing Data"
   ]
  },
  {
   "cell_type": "code",
   "execution_count": null,
   "metadata": {},
   "outputs": [],
   "source": [
    "# Phase correction\n",
    "Vexp = dl.correctphase(V)\n",
    "# Normalize the data (only for plotting purposes)\n",
    "Vexp = Vexp/np.max(Vexp)\n",
    "plt.figure(figsize=(8,3))\n",
    "plt.plot(t,Vexp,'.',label='data corr.')\n",
    "plt.xlabel('t (µs)')\n",
    "plt.ylabel('V (arb.u.)')\n",
    "plt.legend()\n",
    "plt.show()"
   ]
  },
  {
   "cell_type": "markdown",
   "metadata": {
    "slideshow": {
     "slide_type": "subslide"
    }
   },
   "source": [
    "### Acounting for the start time"
   ]
  },
  {
   "cell_type": "markdown",
   "metadata": {},
   "source": [
    "Since DeerLab has been designed for multi-pathway data, the definition of the zero point in time is critically important\n",
    "\n",
    "<img style=\"width:500px; alignment:center\" src=\"https://raw.githubusercontent.com/JeschkeLab/DeerLabWorkshop2022/main/images/4pdeer_sequence_starttime.svg\">\n",
    "\n",
    "In Deerlab the *zerotime* is defined as the time of $\\pi$ pulse before the moving pump pulse\n"
   ]
  },
  {
   "cell_type": "code",
   "execution_count": null,
   "metadata": {
    "slideshow": {
     "slide_type": "fragment"
    }
   },
   "outputs": [],
   "source": [
    "tau1 = 0.5 # µs\n",
    "tau2 = 5.0 # µs\n",
    "deadtime = 0.3 # µs\n",
    "\n",
    "t = t -t[0]\n",
    "t = t + deadtime\n",
    "\n",
    "plt.figure(figsize=(8,3))\n",
    "plt.plot(t,Vexp,'.',label='data corr.')\n",
    "\n",
    "plt.vlines(0,min(Vexp),max(Vexp),'k',linestyle='dashed')\n",
    "plt.vlines(tau1+tau2,min(Vexp),max(Vexp),'k',linestyle='dashed')\n",
    "plt.vlines(tau1,min(Vexp),max(Vexp),'r',linestyle='dashed')\n",
    "\n",
    "\n",
    "plt.xlabel('t (µs)')\n",
    "plt.ylabel('V (arb.u.)')\n",
    "plt.legend()\n",
    "plt.show()"
   ]
  },
  {
   "cell_type": "markdown",
   "metadata": {
    "slideshow": {
     "slide_type": "slide"
    }
   },
   "source": [
    "## Fitting"
   ]
  },
  {
   "cell_type": "markdown",
   "metadata": {},
   "source": [
    "Before we can fit out data we must first build a model.\n",
    "\n",
    "We can build a simple dipolar model"
   ]
  },
  {
   "cell_type": "code",
   "execution_count": null,
   "metadata": {},
   "outputs": [],
   "source": [
    "# Define the distance range\n",
    "r = np.linspace(2,5,50) # range from 2.2-5.2nm with 0.02nm resolution\n",
    "\n",
    "# Construct the dipolar model\n",
    "Vmodel = dl.dipolarmodel(t,r) \n",
    "\n",
    "# Display information about the dipolar model\n",
    "print(Vmodel)"
   ]
  },
  {
   "cell_type": "markdown",
   "metadata": {
    "slideshow": {
     "slide_type": "subslide"
    }
   },
   "source": [
    "DeerLab includes a wide range of built in models which can then handle the different pathways.\n",
    "\n",
    "- 4pDEER\n",
    "- fwd5pDEER\n",
    "- rev5pDEER\n",
    "- RIDME\n",
    "\n",
    "and many more..."
   ]
  },
  {
   "cell_type": "code",
   "execution_count": null,
   "metadata": {
    "slideshow": {
     "slide_type": "subslide"
    }
   },
   "outputs": [],
   "source": [
    "# Construct model of our 4-pulse DEER experiment\n",
    "my4pdeer = dl.ex_4pdeer(tau1,tau2,pathways=[1,2,3])\n",
    "\n",
    "# Construct the dipolar signal model including experimental information\n",
    "Vmodel = dl.dipolarmodel(t,r, experiment=my4pdeer) \n",
    "\n",
    "# Display information about the model\n",
    "print(Vmodel)"
   ]
  },
  {
   "cell_type": "markdown",
   "metadata": {},
   "source": [
    "We can now use this model to fit our data in one go"
   ]
  },
  {
   "cell_type": "code",
   "execution_count": null,
   "metadata": {
    "slideshow": {
     "slide_type": "subslide"
    }
   },
   "outputs": [],
   "source": [
    "results = dl.fit(Vmodel,Vexp,verbose=2,  ftol=1e-3,)"
   ]
  },
  {
   "cell_type": "code",
   "execution_count": null,
   "metadata": {
    "slideshow": {
     "slide_type": "subslide"
    }
   },
   "outputs": [],
   "source": [
    "print(results)"
   ]
  },
  {
   "cell_type": "code",
   "execution_count": null,
   "metadata": {
    "slideshow": {
     "slide_type": "subslide"
    }
   },
   "outputs": [],
   "source": [
    "results.plot(axis=t,xlabel='t [μs]')\n",
    "\n",
    "# Show the plot\n",
    "plt.show() "
   ]
  },
  {
   "cell_type": "markdown",
   "metadata": {},
   "source": []
  },
  {
   "cell_type": "code",
   "execution_count": null,
   "metadata": {
    "slideshow": {
     "slide_type": "subslide"
    }
   },
   "outputs": [],
   "source": [
    "# Get the fitted distance distribution\n",
    "Pfit = results.P\n",
    "# Get the uncertainty quantification of the distance distribution\n",
    "Puq = results.PUncert\n",
    "# Get its 95% confidence intervals\n",
    "Pci95 = Puq.ci(95)\n",
    "\n",
    "# Get the lower/upper boundaries of the confidence intervals\n",
    "Pci95_lower = Pci95[:,0]\n",
    "Pci95_upper = Pci95[:,1]\n",
    "\n",
    "# Plot the fitted distance distribution\n",
    "plt.plot(r,Pfit)\n",
    "# Plot the confidence bands as a filled area\n",
    "plt.fill_between(r,Pci95_lower,Pci95_upper,alpha=0.4)\n",
    "plt.xlabel('r [nm]')\n",
    "plt.ylabel('P(r) [nm$^{-1}$]')\n",
    "plt.show()"
   ]
  },
  {
   "cell_type": "code",
   "execution_count": null,
   "metadata": {
    "slideshow": {
     "slide_type": "subslide"
    }
   },
   "outputs": [],
   "source": [
    "mod_fit = results.lam1 + results.lam2 + results.lam3\n",
    "mod_ci95 = results.lam1Uncert.ci(95) + results.lam2Uncert.ci(95) + results.lam3Uncert.ci(95)\n",
    "\n",
    "# Spin concentration\n",
    "conc_fit = results.conc\n",
    "conc_ci95 = results.concUncert.ci(95)\n",
    "\n",
    "\n",
    "print(f'Modulation depth: {mod_fit:.3f} ({mod_ci95[0]:.3f},{mod_ci95[1]:.3f})')\n",
    "print(f'Spin concentration: {conc_fit:.4g}uM ({conc_ci95[0]:.4g},{conc_ci95[1]:.4g})')"
   ]
  },
  {
   "cell_type": "code",
   "execution_count": null,
   "metadata": {
    "slideshow": {
     "slide_type": "subslide"
    }
   },
   "outputs": [],
   "source": [
    "stats = dl.diststats(r,Pfit,Puq,verbose=True)"
   ]
  },
  {
   "cell_type": "markdown",
   "metadata": {
    "slideshow": {
     "slide_type": "slide"
    }
   },
   "source": [
    "## Advanced Techniques"
   ]
  },
  {
   "cell_type": "markdown",
   "metadata": {},
   "source": [
    "- Custom Dipolar Modelling\n",
    "- Compactness Criterion\n",
    "- Global Fitting"
   ]
  },
  {
   "cell_type": "markdown",
   "metadata": {
    "slideshow": {
     "slide_type": "subslide"
    }
   },
   "source": [
    "## Custom Dipolar Modeling"
   ]
  },
  {
   "cell_type": "markdown",
   "metadata": {},
   "source": []
  },
  {
   "cell_type": "markdown",
   "metadata": {
    "slideshow": {
     "slide_type": "subslide"
    }
   },
   "source": [
    "## Compactness Criterion\n"
   ]
  },
  {
   "cell_type": "markdown",
   "metadata": {},
   "source": [
    "It is often the case that there is a non-unique solution for the speration of the background. This is especially tue for noisy data and dataset where the trace is not long enough.\n",
    "\n",
    "<img src=\"https://raw.githubusercontent.com/JeschkeLab/DeerLabWorkshop2022/2746d801bdf97b7afd75d4f666d8fd414af490d8/images/example_identiability.svg\" style=\"width:700px\">\n",
    "\n",
    "DeerLab has a compactness penalty introduced in the regularization. This has the effect of adding an aditional penalty to the objective function than penalizes non-compact data. "
   ]
  },
  {
   "cell_type": "code",
   "execution_count": null,
   "metadata": {},
   "outputs": [],
   "source": []
  },
  {
   "cell_type": "markdown",
   "metadata": {},
   "source": [
    "## Global Fitting"
   ]
  },
  {
   "cell_type": "markdown",
   "metadata": {},
   "source": []
  }
 ],
 "metadata": {
  "kernelspec": {
   "display_name": "Python 3",
   "language": "python",
   "name": "python3"
  },
  "language_info": {
   "codemirror_mode": {
    "name": "ipython",
    "version": 3
   },
   "file_extension": ".py",
   "mimetype": "text/x-python",
   "name": "python",
   "nbconvert_exporter": "python",
   "pygments_lexer": "ipython3",
   "version": "3.10.8"
  },
  "orig_nbformat": 4
 },
 "nbformat": 4,
 "nbformat_minor": 2
}
