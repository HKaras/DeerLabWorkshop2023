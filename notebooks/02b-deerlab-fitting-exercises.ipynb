{
 "cells": [
  {
   "cell_type": "markdown",
   "metadata": {},
   "source": [
    "# Part 2 (exercise sheet): Using DeerLab for fitting DEER"
   ]
  },
  {
   "cell_type": "markdown",
   "metadata": {},
   "source": [
    "Run the cell below first to import all packages"
   ]
  },
  {
   "cell_type": "code",
   "execution_count": null,
   "metadata": {},
   "outputs": [],
   "source": [
    "import numpy as np \n",
    "import matplotlib.pyplot as plt \n",
    "import deerlab as dl"
   ]
  },
  {
   "cell_type": "markdown",
   "metadata": {},
   "source": [
    "On this exercise you will analyze an experimental 4-pulse DEER signal. \n",
    "\n",
    "<img style=\"width:500px; alignment:center; margin:auto; display:block;\" src=\"https://raw.githubusercontent.com/JeschkeLab/DeerLabWorkshop2022/main/images/4pdeer_sequence_starttime.svg\">\n",
    "\n",
    "The experiment was acquired with the following experimental setup: \n",
    "\n",
    "| Delay | Length | Description | \n",
    "| :---: | :---: | --- |\n",
    "| $\\tau_1$ |  0.3μs |       First inter-pulse delay | \n",
    "| $\\tau_2$ |  4.0μs  |      Second inter-pulse delay | \n",
    "| $t_0$ |  0.1μs |   Start value | \n"
   ]
  },
  {
   "cell_type": "markdown",
   "metadata": {},
   "source": [
    "### Exercise 2.1: Loading and pre-processing DEER data\n",
    "\n",
    "*Available time: 8min*\n",
    "\n",
    "- Load the experimental 4-pulse DEER dipolar signal ``example_4pdeer_1.DTA`` located in the ``data`` folder (relative path ``../data/``) of this workshop's workspace.\n",
    "\n",
    "- Assign the experimental delays $\\tau_1$, $\\tau_2$ and $t_0$ to variables for later use.  \n",
    "\n",
    "- Phase correct the data.\n",
    "\n",
    "- Correct for the start time $t_0$ of the of the experiment.\n",
    "\n",
    "- Plot the resulting pre-processed signal."
   ]
  },
  {
   "cell_type": "code",
   "execution_count": null,
   "metadata": {},
   "outputs": [],
   "source": [
    "# <your script goes here>"
   ]
  },
  {
   "cell_type": "markdown",
   "metadata": {},
   "source": [
    "### Exercise 2.2: Constructing the 4-pulse DEER model\n",
    "\n",
    "*Available time: 5min*\n",
    "\n",
    "- Define a 4-pulse DEER experiment via [``ex_4pdeer``]((https://jeschkelab.github.io/DeerLab/_autosummary/deerlab.ex_4pdeer.html#deerlab.ex_4pdeer)) with $\\tau_1$=0.3µs and $\\tau_2$=4µs and only the first pathway.\n",
    "\n",
    "- Define a distance vector in the range 2.2-5.2nm with a 0.02nm resolution.\n",
    "\n",
    "- Construct the a single-pathway model of the 4-pulse DEER signal using the [``dipolarmodel``](https://jeschkelab.github.io/DeerLab/_autosummary/deerlab.dipolarmodel.html#deerlab.dipolarmodel) function. Include the experiment information to constrain your model parameters. \n",
    "\n",
    "- Display the model's information"
   ]
  },
  {
   "cell_type": "code",
   "execution_count": null,
   "metadata": {},
   "outputs": [],
   "source": [
    "# <your script goes here>"
   ]
  },
  {
   "cell_type": "markdown",
   "metadata": {},
   "source": [
    "### Exercise 2.3: Fitting the model to the data\n",
    "\n",
    "*Available time: 2min*\n",
    "\n",
    "- Fit your model to the experimental data using the [``fit``](https://jeschkelab.github.io/DeerLab/_autosummary/deerlab.fit.html#deerlab.fit) function. \n",
    "\n",
    "    *Note:* Use the keyword arguments ``ftol=1e-3`` and ``regparam=0.1135`` with the ``fit`` function to speedup the computation (due to low resources on JupyterLab)."
   ]
  },
  {
   "cell_type": "code",
   "execution_count": null,
   "metadata": {},
   "outputs": [],
   "source": [
    "# <your script goes here>"
   ]
  },
  {
   "cell_type": "markdown",
   "metadata": {},
   "source": [
    "- Check the the fit of the model to the data by plotting the results."
   ]
  },
  {
   "cell_type": "code",
   "execution_count": null,
   "metadata": {},
   "outputs": [],
   "source": [
    "# <your script goes here>"
   ]
  },
  {
   "cell_type": "markdown",
   "metadata": {},
   "source": [
    "### Exercise 2.4: Extracting results and uncertainties\n",
    "\n",
    "*Available time: 5min*\n",
    "\n",
    "- Inspect the summary of the fit's results. Assess the goodness-of-fit and the fitted parameters. \n"
   ]
  },
  {
   "cell_type": "code",
   "execution_count": null,
   "metadata": {},
   "outputs": [],
   "source": [
    "# <your script goes here>"
   ]
  },
  {
   "cell_type": "markdown",
   "metadata": {},
   "source": [
    "- Plot the fitted distance distribution along its 95%-confidence band."
   ]
  },
  {
   "cell_type": "code",
   "execution_count": null,
   "metadata": {},
   "outputs": [],
   "source": [
    "# <your script goes here>"
   ]
  },
  {
   "cell_type": "markdown",
   "metadata": {},
   "source": [
    "\n",
    "- Get statistical information on the distance distribution using the ``diststats`` function. How many modes does the distance distribution have? What is the median distance?\n"
   ]
  },
  {
   "cell_type": "code",
   "execution_count": null,
   "metadata": {},
   "outputs": [],
   "source": [
    "# <your script goes here>"
   ]
  },
  {
   "cell_type": "markdown",
   "metadata": {},
   "source": [
    "-----------------"
   ]
  },
  {
   "cell_type": "markdown",
   "metadata": {},
   "source": [
    "## Exercise 2.5: Fitting DEER data with multiple pathway contributions \n",
    "\n",
    "*Available time: 8min*\n",
    "\n",
    "Remember, the dipolar pathways of the 4-pulse DEER experiment are:\n",
    "\n",
    "<img src=\"https://github.com/JeschkeLab/DeerLabWorkshop2022/raw/main/images/pathways_scheme.png\" alt=\"drawing\" style=\"width:300px; margin:auto; display:block; \"/>\n",
    "\n",
    "\n",
    "| Pathway | Refocusing time | Description | \n",
    "| :---: | ------ | -------------- |\n",
    "| 1 | $t = \\tau_1$ | Main contribution |\n",
    "| 2 | $t = \\tau_1+\\tau_2$ | \"2+1\" contribution | \n",
    "| 3 | $t = 0$  | \"Inverse 2+1\" contribution | \n",
    "| 4 | $t = \\tau_2$ | No description  | \n",
    "\n",
    "In this exercise you will analyze the experimental 4-pulse DEER data ``example_4pdeer_2.DTA`` with additional pathway contributions due to, e.g., pulse excitation overlap. The data was acquired with the following experimental parameters: \n",
    "\n",
    "| Delay | Length | Description | \n",
    "| :---: | :---: | --- |\n",
    "| $\\tau_1$ |  0.5μs |       First inter-pulse delay | \n",
    "| $\\tau_2$ |  3.5μs  |      Second inter-pulse delay | \n",
    "| $t_0$ |  0.1μs |  Start time | \n"
   ]
  },
  {
   "cell_type": "code",
   "execution_count": null,
   "metadata": {},
   "outputs": [],
   "source": [
    "# File location\n",
    "path = '../../data/'\n",
    "file = 'example_4pdeer_2.DTA'\n",
    "\n",
    "# Experimental parameters\n",
    "tau1 = 0.5      # First inter-pulse delay, μs\n",
    "tau2 = 3.5      # Second inter-pulse delay, μs\n",
    "deadtime = 0.1  # Acquisition start time, μs\n",
    "\n",
    "# Load the experimental data\n",
    "t,Vexp = dl.deerload(path + file)\n",
    "\n",
    "# Pre-processing\n",
    "Vexp = dl.correctphase(Vexp) # Phase correction\n",
    "t = t + deadtime             # Account for deadtime\n",
    "\n",
    "# Plot the pre-processed data\n",
    "plt.plot(t,Vexp,'b.')\n",
    "plt.xlabel('t [μs]')\n",
    "plt.ylabel('V(t)')\n",
    "plt.show()"
   ]
  },
  {
   "cell_type": "markdown",
   "metadata": {},
   "source": [
    "- Construct the distance vector in the range 2.5-5nm with a resolution of 0.05nm.\n",
    "- Construct the experiment model with  [``ex_4pdeer``](https://jeschkelab.github.io/DeerLab/_autosummary/deerlab.ex_4pdeer.html#deerlab.ex_4pdeer). Take into account only pathways #1-3 (in this case we know that pathway #4 must be negligible, so we will leave it out for the sake of speed).\n",
    "- Construct the dipolar model for the dipolar signal using [``dipolarmodel``](https://jeschkelab.github.io/DeerLab/_autosummary/deerlab.dipolarmodel.html#deerlab.dipolarmodel) with a non-parametric distance distribution and a homogeneous 3D background decay model."
   ]
  },
  {
   "cell_type": "code",
   "execution_count": null,
   "metadata": {},
   "outputs": [],
   "source": [
    "# <your script goes here>"
   ]
  },
  {
   "cell_type": "markdown",
   "metadata": {},
   "source": [
    "\n",
    "- Fit the model to the data using a the keyword arguments ``regparam=0.098`` and ``ftol=1e-1`` with the function [``fit``](https://jeschkelab.github.io/DeerLab/_autosummary/deerlab.fit.html#deerlab.fit)."
   ]
  },
  {
   "cell_type": "code",
   "execution_count": null,
   "metadata": {},
   "outputs": [],
   "source": [
    "# <your script goes here>"
   ]
  },
  {
   "cell_type": "markdown",
   "metadata": {},
   "source": [
    "- Display the summary of the fit results. "
   ]
  },
  {
   "cell_type": "code",
   "execution_count": null,
   "metadata": {},
   "outputs": [],
   "source": [
    "# <your script goes here>"
   ]
  },
  {
   "cell_type": "markdown",
   "metadata": {},
   "source": [
    "- Execute the cell below to evaluate the function definition."
   ]
  },
  {
   "cell_type": "code",
   "execution_count": null,
   "metadata": {},
   "outputs": [],
   "source": [
    "def plot_pathway_decomposition(results):\n",
    "    # Extract fitted dipolar signal\n",
    "    Vfit = results.model\n",
    "    Pfit = results.P\n",
    "    # Construct figure with custom size\n",
    "    plt.figure(figsize=[12,4])\n",
    "    # Define color HEX values\n",
    "    violet = '#4550e6'\n",
    "    green = '#3cb4c6'\n",
    "    red = '#f84862'\n",
    "    # Plot the experimental data and the fitted signal\n",
    "    plt.subplot(121)\n",
    "    plt.plot(t,Vexp,'.',color='grey',label='Data')\n",
    "    plt.plot(t,Vfit,linewidth=3,color=violet,label='Fit')\n",
    "    plt.legend(frameon=False,loc='best')\n",
    "    plt.xlabel('Time $t$ (μs)')\n",
    "    plt.ylabel('$V(t)$ (arb.u.)')\n",
    "    # Plot the contributions of the individual pathways\n",
    "    plt.subplot(122)\n",
    "    lams = [results.lam1, results.lam2, results.lam3]\n",
    "    reftimes = [results.reftime1, results.reftime2, results.reftime3]\n",
    "    colors= [green, red, violet]\n",
    "    # Calculat the total background function\n",
    "    Vinter = results.P_scale*(1-np.sum(lams))*np.prod([dl.bg_hom3d(t-reftime,results.conc,lam) for lam,reftime in zip(lams,reftimes)],axis=0)\n",
    "    # Loop over individual pathways\n",
    "    for n,(lam,reftime,color) in enumerate(zip(lams,reftimes,colors)):\n",
    "        # Calculate and plot the contribution\n",
    "        Vpath = (1-np.sum(lams) + lam*dl.dipolarkernel(t-reftime,r)@Pfit)*Vinter\n",
    "        plt.plot(t,Vpath,linewidth=3,label=f'Pathway #{n+1}',color=color)\n",
    "    plt.legend(frameon=False,loc='best')\n",
    "    plt.xlabel('Time $t$ (μs)')\n",
    "    plt.ylabel('$V(t)$ (arb.u.)')\n",
    "    plt.tight_layout()\n",
    "    plt.show()"
   ]
  },
  {
   "cell_type": "markdown",
   "metadata": {},
   "source": [
    "- Plot the fitted signal and the contributions of the individual dipolar pathways."
   ]
  },
  {
   "cell_type": "code",
   "execution_count": null,
   "metadata": {},
   "outputs": [],
   "source": [
    "# <your script goes here>"
   ]
  },
  {
   "cell_type": "markdown",
   "metadata": {},
   "source": [
    "- Plot the fitted distance distribution and its 95%-confidence intervals. (Tip: Re-use the code from previous exercises)"
   ]
  },
  {
   "cell_type": "code",
   "execution_count": null,
   "metadata": {},
   "outputs": [],
   "source": [
    "# <your script goes here>"
   ]
  },
  {
   "cell_type": "markdown",
   "metadata": {},
   "source": [
    "--------------------"
   ]
  },
  {
   "cell_type": "markdown",
   "metadata": {},
   "source": []
  }
 ],
 "metadata": {
  "kernelspec": {
   "display_name": "Python 3.9.5 64-bit",
   "language": "python",
   "name": "python3"
  },
  "language_info": {
   "codemirror_mode": {
    "name": "ipython",
    "version": 3
   },
   "file_extension": ".py",
   "mimetype": "text/x-python",
   "name": "python",
   "nbconvert_exporter": "python",
   "pygments_lexer": "ipython3",
   "version": "3.9.5"
  },
  "orig_nbformat": 4,
  "vscode": {
   "interpreter": {
    "hash": "81794d4967e6c3204c66dcd87b604927b115b27c00565d3d43f05ba2f3a2cb0d"
   }
  }
 },
 "nbformat": 4,
 "nbformat_minor": 2
}
