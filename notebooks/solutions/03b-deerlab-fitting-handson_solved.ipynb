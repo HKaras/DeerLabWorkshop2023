{
 "cells": [
  {
   "cell_type": "markdown",
   "metadata": {},
   "source": [
    "# Part 3 (Hands-on): Analyzing experimental data with DeerLab"
   ]
  },
  {
   "cell_type": "code",
   "execution_count": 3,
   "metadata": {},
   "outputs": [],
   "source": [
    "import numpy as np \n",
    "import matplotlib.pyplot as plt \n",
    "import deerlab as dl"
   ]
  },
  {
   "cell_type": "markdown",
   "metadata": {},
   "source": [
    "On this exercise you will analyze an experimental 4-pulse DEER signal.  The experiment was acquired with the following experimental setup: \n",
    "\n",
    "| Delay | Length | Description | \n",
    "| :---: | :---: | --- |\n",
    "| $\\tau_1$ |  0.3μs |       First inter-pulse delay | \n",
    "| $\\tau_2$ |  4.0μs  |      Second inter-pulse delay | \n",
    "| $t_0$ |  0.1μs |   Acquisition delay | \n"
   ]
  },
  {
   "cell_type": "markdown",
   "metadata": {},
   "source": [
    "### Hands-on #1: Loading and pre-processing experimental dipolar EPR data\n",
    "\n",
    "Load the experimental 4-pulse DEER dipolar signal ``example_4pdeer_1.DTA`` located in the ``data`` folder of this workshop's workspace.\n",
    "Pre-process the data such that the data is only real-valued and the deadtime of the experiment is accounted for. Plot the resulting pre-processed signal.\n"
   ]
  },
  {
   "cell_type": "code",
   "execution_count": 4,
   "metadata": {},
   "outputs": [
    {
     "data": {
      "image/png": "[encoded data removed]",
      "text/plain": [
       "<Figure size 432x288 with 1 Axes>"
      ]
     },
     "metadata": {
      "needs_background": "light"
     },
     "output_type": "display_data"
    }
   ],
   "source": [
    "\n",
    "# The full path with filename can be directly passed to the function as well\n",
    "t,Vexp = dl.deerload('../../data/example_4pdeer_1.DTA') \n",
    "\n",
    "# Experiment details \n",
    "t0 = 0.1 # μs \n",
    "tau1 = 0.3 # μs \n",
    "tau2 = 4.0 # μs \n",
    "\n",
    "# Phase correction\n",
    "Vexp = dl.correctphase(Vexp)\n",
    "\n",
    "# Acquistion delay correction\n",
    "t = t - min(t) # Set the first time interval to zero \n",
    "t = t + t0 # Account for the acquistion delay \n",
    "\n",
    "plt.plot(t,Vexp,'b.')\n",
    "plt.xlabel('t [μs]')\n",
    "plt.ylabel('V(t) (real)')\n",
    "plt.show()"
   ]
  },
  {
   "cell_type": "markdown",
   "metadata": {},
   "source": [
    "### Hands-on #2: Constructing the 4-pulse DEER model\n",
    "\n",
    "Construct the appropriate model of the 4-pulse DEER signal. Adjust the boundaries of the model accordingly if necessary."
   ]
  },
  {
   "cell_type": "code",
   "execution_count": 5,
   "metadata": {},
   "outputs": [
    {
     "name": "stdout",
     "output_type": "stream",
     "text": [
      "Description: Dipolar signal model\n",
      "Signature: (mod, reftime, conc, P)\n",
      "Constants: []\n",
      "Parameter Table: \n",
      "========= ======= ======= ======== ======== ====== ====================================== \n",
      " Name      Lower   Upper    Type    Frozen   Unit   Description                           \n",
      "========= ======= ======= ======== ======== ====== ====================================== \n",
      " mod           0       1   nonlin     No            Modulation depth                      \n",
      " reftime    0.25    0.35   nonlin     No      μs    Refocusing time                       \n",
      " conc       0.01   5e+03   nonlin     No      μM    Spin concentration                    \n",
      " P             0     inf   linear     No     nm⁻¹   Non-parametric distance distribution  \n",
      "========= ======= ======= ======== ======== ====== ====================================== \n"
     ]
    }
   ],
   "source": [
    "tau1 = 0.3 # μs \n",
    "tau2 = 4.0 # μs \n",
    "\n",
    "# Experiment information\n",
    "my4pdeer = dl.ex_4pdeer(tau1,tau2,pathways=[1])\n",
    "\n",
    "# Define the distance range\n",
    "r = np.arange(2.2,5.2,0.02)\n",
    "\n",
    "# Construct the model\n",
    "Vmodel = dl.dipolarmodel(t,r, experiment=my4pdeer) \n",
    "\n",
    "print(Vmodel)"
   ]
  },
  {
   "cell_type": "markdown",
   "metadata": {},
   "source": [
    "### Hands-on #3: Fitting the model to the data\n",
    "\n",
    "Fit your model to the experimental data. Check the the fit of the model to the data by plotting the results.\n",
    "\n",
    "*Note:* Use the keyword arguments ``ftol=1e-3`` and ``regparam=0.0908`` with the ``fit`` function to speedup the computation (due to low resources on JupyterLab)."
   ]
  },
  {
   "cell_type": "code",
   "execution_count": 6,
   "metadata": {},
   "outputs": [
    {
     "name": "stdout",
     "output_type": "stream",
     "text": [
      "[8-8-2022 10:43:46] Preparing the SNLLS analysis...\n",
      "[8-8-2022 10:43:46] Preparations completed.\n",
      "[8-8-2022 10:43:46] Non-linear least-squares routine in progress...\n",
      "   Iteration     Total nfev        Cost      Cost reduction    Step norm     Optimality   \n",
      "       0              1         3.4615e+07                                    1.60e+08    \n",
      "       1              2         6.4180e+06      2.82e+07       2.17e-01       2.38e+08    \n",
      "       2              3         1.6323e+05      6.25e+06       1.07e+02       9.89e+06    \n",
      "       3              4         6.8754e+04      9.45e+04       5.94e+00       2.78e+06    \n",
      "       4              5         6.5051e+04      3.70e+03       2.16e+00       5.38e+05    \n",
      "       5              6         6.4931e+04      1.19e+02       3.53e-01       1.57e+04    \n",
      "       6              7         6.4931e+04      9.78e-02       1.18e-02       3.18e+01    \n",
      "`ftol` termination condition is satisfied.\n",
      "Function evaluations 7, initial cost 3.4615e+07, final cost 6.4931e+04, first-order optimality 3.18e+01.\n",
      "[8-8-2022 10:43:48] Least-squares routine finished.\n",
      "[8-8-2022 10:43:48] Uncertainty analysis in progress...\n",
      "[8-8-2022 10:43:48] Uncertainty analysis completed.\n",
      "[8-8-2022 10:43:48] Model evaluation in progress...\n",
      "[8-8-2022 10:43:48] Model evaluation completed.\n"
     ]
    }
   ],
   "source": [
    "results = dl.fit(Vmodel,Vexp,verbose=2,ftol=1e-3,regparam=0.0908)\n",
    "# Usually leave the regparam and ftol options to their defaults (here needed due to low resources)"
   ]
  },
  {
   "cell_type": "code",
   "execution_count": 7,
   "metadata": {},
   "outputs": [
    {
     "data": {
      "image/png": "[encoded data removed]",
      "text/plain": [
       "<Figure size 504x288 with 1 Axes>"
      ]
     },
     "metadata": {
      "needs_background": "light"
     },
     "output_type": "display_data"
    }
   ],
   "source": [
    "results.plot(axis=t,xlabel='t [μs]')\n",
    "plt.show() "
   ]
  },
  {
   "cell_type": "markdown",
   "metadata": {},
   "source": [
    "### Hands-on #4: Extracting results and uncertainties\n",
    "\n",
    "Examine the values of the fitted parameters and their uncertainties. \n",
    "\n"
   ]
  },
  {
   "cell_type": "code",
   "execution_count": 8,
   "metadata": {},
   "outputs": [
    {
     "name": "stdout",
     "output_type": "stream",
     "text": [
      "Goodness-of-fit: \n",
      "========= ============= ============ ======== ========== \n",
      " Dataset   Noise level   Reduced 𝛘2    RMSD      AIC     \n",
      "========= ============= ============ ======== ========== \n",
      "   #1        24.222        0.967      21.633   2990.215  \n",
      "========= ============= ============ ======== ========== \n",
      "Model hyperparameters: \n",
      "========================== \n",
      " Regularization parameter  \n",
      "========================== \n",
      "          0.091            \n",
      "========================== \n",
      "Model parameters: \n",
      "=========== =================== ========================= ====== ====================================== \n",
      " Parameter   Value               95%-Confidence interval   Unit   Description                           \n",
      "=========== =================== ========================= ====== ====================================== \n",
      " mod         0.303               (0.300,0.305)                    Modulation depth                      \n",
      " reftime     0.299               (0.298,0.301)              μs    Refocusing time                       \n",
      " conc        148.129             (143.733,152.525)          μM    Spin concentration                    \n",
      " P           ...                 (...,...)                 nm⁻¹   Non-parametric distance distribution  \n",
      " P_scale     5377.295221229221                             None   Normalization factor of P             \n",
      "=========== =================== ========================= ====== ====================================== \n"
     ]
    }
   ],
   "source": [
    "print(results)"
   ]
  },
  {
   "cell_type": "markdown",
   "metadata": {},
   "source": [
    "Plot the fitted distribution along its 95%-confidence band. How many modes does the estimated distance distribution have, and what is the median distance? \n"
   ]
  },
  {
   "cell_type": "code",
   "execution_count": 9,
   "metadata": {},
   "outputs": [
    {
     "data": {
      "image/png": "[encoded data removed]",
      "text/plain": [
       "<Figure size 432x288 with 1 Axes>"
      ]
     },
     "metadata": {
      "needs_background": "light"
     },
     "output_type": "display_data"
    }
   ],
   "source": [
    "Pfit = results.P\n",
    "Pci95 = results.PUncert.ci(95)\n",
    "\n",
    "plt.plot(r,Pfit,'b')\n",
    "plt.fill_between(r,Pci95[:,0],Pci95[:,1],color='b',alpha=0.4)\n",
    "plt.show()"
   ]
  },
  {
   "cell_type": "code",
   "execution_count": 10,
   "metadata": {},
   "outputs": [
    {
     "name": "stdout",
     "output_type": "stream",
     "text": [
      "-------------------------------------------------\n",
      "Distribution Statistics\n",
      "-------------------------------------------------\n",
      "Range                    2.20-5.18 nm\n",
      "Integral                 1.00\n",
      "-------------------------------------------------\n",
      "Location\n",
      "-------------------------------------------------\n",
      "Range                    2.20-5.18 nm\n",
      "Mean                     3.78 (3.77,3.80) nm\n",
      "Median                   3.91 (3.90,3.92) nm\n",
      "Interquartile mean       3.88 (3.87,3.89) nm\n",
      "Mode                     4.00 nm\n",
      "-------------------------------------------------\n",
      "Spread\n",
      "-------------------------------------------------\n",
      "Standard deviation       0.36 (0.33,0.39) nm\n",
      "Mean absolute deviation  0.29 (0.27,0.30) nm\n",
      "Interquartile range      0.48 (0.46,0.51) nm\n",
      "Variance                 0.13 (0.11,0.15) nm²\n",
      "-------------------------------------------------\n",
      "Shape\n",
      "-------------------------------------------------\n",
      "Modality                 3\n",
      "Skewness                 -1.37 (-2.32,-0.42) \n",
      "Kurtosis                 -2.11 (-4.80,0.58) \n",
      "-------------------------------------------------\n"
     ]
    }
   ],
   "source": [
    "stats = dl.diststats(r,Pfit,results.PUncert,verbose=True)"
   ]
  },
  {
   "cell_type": "code",
   "execution_count": null,
   "metadata": {},
   "outputs": [],
   "source": []
  }
 ],
 "metadata": {
  "kernelspec": {
   "display_name": "Python 3.9.5 64-bit",
   "language": "python",
   "name": "python3"
  },
  "language_info": {
   "codemirror_mode": {
    "name": "ipython",
    "version": 3
   },
   "file_extension": ".py",
   "mimetype": "text/x-python",
   "name": "python",
   "nbconvert_exporter": "python",
   "pygments_lexer": "ipython3",
   "version": "3.9.5"
  },
  "orig_nbformat": 4,
  "vscode": {
   "interpreter": {
    "hash": "81794d4967e6c3204c66dcd87b604927b115b27c00565d3d43f05ba2f3a2cb0d"
   }
  }
 },
 "nbformat": 4,
 "nbformat_minor": 2
}
