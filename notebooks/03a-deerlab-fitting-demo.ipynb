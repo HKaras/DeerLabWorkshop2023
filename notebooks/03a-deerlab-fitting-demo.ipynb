{
 "cells": [
  {
   "cell_type": "markdown",
   "metadata": {},
   "source": [
    "# Part 3: Analyzing experimental data with DeerLab"
   ]
  },
  {
   "cell_type": "code",
   "execution_count": null,
   "metadata": {},
   "outputs": [],
   "source": [
    "import numpy as np \n",
    "import matplotlib.pyplot as plt \n",
    "import deerlab as dl"
   ]
  },
  {
   "cell_type": "markdown",
   "metadata": {},
   "source": [
    "### Learning Objectives of Part 3\n",
    "\n",
    "- To obtain a basic understanding on how to load data from a spectrometer into a script\n",
    "- To be able to do minimal pre-processing of the experimental data \n",
    "- To be able to analyze any type of dipolar EPR signal"
   ]
  },
  {
   "cell_type": "markdown",
   "metadata": {},
   "source": [
    "---------------------"
   ]
  },
  {
   "cell_type": "markdown",
   "metadata": {},
   "source": [
    "## 1. Loading data into DeerLab"
   ]
  },
  {
   "cell_type": "markdown",
   "metadata": {},
   "source": [
    "DeerLab provides the function ``deerload`` that can load dipolar EPR data from most spectrometer file formats. The function ``deerload`` is a Python version of the very well known ``eprload`` from the EasySpin package for MATLAB. It works for 1D and 2D datasets, both real- or complex-valued. For data files in ASCII format, Numpy provides robust loading functions such as ``loadtxt`` which can be used in the same way as ``deerload``.  \n",
    "\n",
    "First, we must determine the location of the spectrometer files we want to load and the location of the script or Jupyter notebook you are writing in. For example, consider the file structure of this workspace \n",
    "\n",
    "    /home\n",
    "    |-----notebooks\n",
    "    |      |\n",
    "    |      |---03-instructor-deerlab-fitting.ipynb\n",
    "    |\n",
    "    +-----data\n",
    "            |\n",
    "            +---example_4pdeer_4.DTA\n",
    "            +---example_4pdeer_4.DSC\n",
    "\n",
    "to load the data file ``example_4pdeer_4.DTA`` we must either specify the full path stdarting from the root folder ``home`` or the relative path to the file from our ``tutorials`` folder.  \n",
    "\n",
    "*Tipp:* In Windows computers, by right-clicking a file while pressing ``Shift`` one can select the option ``Copy as path`` to automatically copy the full path of the file. This can then be directly pasted into your script to effortlessly load the data.\n",
    "\n",
    "The function returns two outputs: the first is the dipolar time-axis of your experiment (a vector of pulse increments), and the second is the raw experimental data as saved by your spectrometer. Here, we store them in variables named ``t`` and ``Vexp``. "
   ]
  },
  {
   "cell_type": "code",
   "execution_count": null,
   "metadata": {},
   "outputs": [],
   "source": [
    "path = '/home/data/' # Full path\n",
    "path = '../data/' # Relative path\n",
    "filename = 'example_4pdeer_4.DTA' # Name of the data file\n",
    "\n",
    "# Load the data\n",
    "t,Vexp = dl.deerload(path + filename)"
   ]
  },
  {
   "cell_type": "markdown",
   "metadata": {},
   "source": [
    "Both ``t`` and ``Vexp`` are 1D Numpy arrays with ``N`` elements.  The function ``deerload`` attempts to return the experiment time-axis ``t`` in units of microseconds, but might not be able to do so for all file formats. It is important to check that the time-axis has the correct units. \n",
    "\n",
    "This can be easily checked by printing the variable ``t`` or plotting the data."
   ]
  },
  {
   "cell_type": "code",
   "execution_count": null,
   "metadata": {},
   "outputs": [],
   "source": [
    "print(t[2]-t[1]) \n",
    "\n",
    "plt.subplot(211)\n",
    "plt.plot(t,Vexp.real,'b.')\n",
    "plt.xlabel('t [μs]')\n",
    "plt.ylabel('V(t) (real)')\n",
    "\n",
    "plt.subplot(212)\n",
    "plt.plot(t,Vexp.imag,'r.')\n",
    "plt.xlabel('t [μs]')\n",
    "plt.ylabel('V(t) (imaginary)')\n",
    "\n",
    "plt.tight_layout() \n",
    "plt.show()\n"
   ]
  },
  {
   "cell_type": "markdown",
   "metadata": {},
   "source": [
    "-------------------------------"
   ]
  },
  {
   "cell_type": "markdown",
   "metadata": {},
   "source": [
    "## 2. Pre-processing\n",
    "\n",
    "While DeerLab can handle pure raw data (even in complex form) it can facilitate our analysis to perform a couple of simple pre-processing steps. \n",
    "\n",
    "### Phase correction\n",
    "\n",
    "Experimental dipolar signals are most often acquired in quadrature, with the in-phase and the out-of-phase component stored as the real and the imaginary part of a complex-valued signal. If the out-of-phase components are of no relevance, it is recommendable to perform a phase correction which minimizes the imaginary component and maximizes the real component. If the signal is not complex-valued or the out-of-phase component is important, skip this step. The phase correction function ``correctphase`` takes the complex-valued signal and returns the real-valued phase-corrected dipolar signal.\n",
    "\n",
    "### Accounting for the acquisition delay\n",
    "\n",
    "DeerLab assumes that the dipolar time evolution has its zero-time inmediately after the pulse. For example: \n",
    "\n",
    "![title](https://jeschkelab.github.io/DeerLab/_images/sequence_4pdeer.svg)\n",
    "\n",
    "Since experiments usually have a certain time $t_0$ during which the echo modulation is not acquired, we must account for that. Sadly most spectrometers do not automatically do this and we must take care that its definition is correct. \n",
    "\n",
    "*Note:* This is information that must be noted by the user as DeerLab cannot robustly extract that from the data files. \n",
    "\n",
    "Let's take an example file where we know that we measured with a $t_0$=300ns. "
   ]
  },
  {
   "cell_type": "code",
   "execution_count": null,
   "metadata": {},
   "outputs": [],
   "source": [
    "# Load the data\n",
    "t,Vexp = dl.deerload('../data/example_4pdeer_4.DTA')\n",
    "\n",
    "# Experiment details \n",
    "t0 = 0.3 # μs \n",
    "tau1 = 0.5 # μs \n",
    "tau2 = 5.0 # μs \n",
    "\n",
    "# Phase correction\n",
    "Vexp = dl.correctphase(Vexp)\n",
    "\n",
    "# Account for the acquisition delay\n",
    "t = t - min(t) # Set the first time interval to zero \n",
    "t = t + t0     # Account for the acquisition delay\n",
    "\n",
    "plt.plot(t,Vexp,'b.')\n",
    "plt.xlabel('t [μs]')\n",
    "plt.ylabel('V(t)')\n",
    "\n",
    "# Add some vertical lines for illustration\n",
    "plt.vlines(0,min(Vexp),max(Vexp),'k',linestyle='dashed')\n",
    "plt.vlines(tau1+tau2,min(Vexp),max(Vexp),'k',linestyle='dashed')\n",
    "plt.vlines(tau1,min(Vexp),max(Vexp),'r',linestyle='dashed')\n",
    "\n",
    "plt.show()"
   ]
  },
  {
   "cell_type": "markdown",
   "metadata": {},
   "source": [
    "------------------\n",
    "## Hands-on #1 \n",
    "\n",
    "Go to ``Hands-on #1`` on the exercise file: ``03b-deerlab-fitting-handson.ipynb``"
   ]
  },
  {
   "cell_type": "markdown",
   "metadata": {},
   "source": [
    "---------------"
   ]
  },
  {
   "cell_type": "markdown",
   "metadata": {},
   "source": [
    "## 3. Constructing a model of the data\n",
    "\n",
    "DeerLab provides a very flexible framework to model dipolar signals originating from any dipolar EPR spectroscopy experiments. Choosing a model that properly describes your sample and experiment is of paramount importance. As we have seen, DeerLab's function ``dipolarmodel`` already defines the core model structure based on dipolar pathways, with the following components to be chosen:\n",
    "\n",
    "- Distance range: Also called the interspin distance axis, is the range of distances where the distribution is defined.\n",
    "\n",
    "- Distribution model: Describes the intra-molecular distance distribution in either a parametric (e.g. a Gaussian distribution) or a non-parametric way.\n",
    "\n",
    "- Background model: Describes the dipolar background signal arising from the inter-molecular contributions.\n",
    "\n",
    "- Number of pathways: Sets the number of dipolar pathways contributing to the dipolar signal.\n",
    "\n",
    "For each of these four components, a choice needs to be made.\n",
    "\n",
    "For example, to analyze the data with a single-pathway model using a non-parameteric distance distribution and a homogenous 3d-background (obtaining an analysis similar in spirit to DeerAnalysis and LongDistances):\n"
   ]
  },
  {
   "cell_type": "code",
   "execution_count": null,
   "metadata": {},
   "outputs": [],
   "source": [
    "# Define the distance range\n",
    "r = np.arange(2.2,5.2,0.02)\n",
    "\n",
    "# Construct the dipolar model\n",
    "Vmodel = dl.dipolarmodel(t,r) \n",
    "\n",
    "print(Vmodel)"
   ]
  },
  {
   "cell_type": "markdown",
   "metadata": {},
   "source": [
    "The dipolar pathways of a newly constructed dipolar model are initialized at arbitrary refocusing times and fully unconstrained. This can result in unstable fits under certain conditions. It is recommended to constrain this parameter. If no further information is available this can be done by visual inspection of the data."
   ]
  },
  {
   "cell_type": "code",
   "execution_count": null,
   "metadata": {},
   "outputs": [],
   "source": [
    "# Modify initial conditions and constraints of the refocusing time parameter\n",
    "Vmodel.reftime.set(lb=0.2,ub=0.6,par0=0.4)\n",
    "\n",
    "print(Vmodel)"
   ]
  },
  {
   "cell_type": "markdown",
   "metadata": {},
   "source": [
    "The model can be easily manipulated to alter the boundaries or fix parameter to certain values. "
   ]
  },
  {
   "cell_type": "code",
   "execution_count": null,
   "metadata": {},
   "outputs": [],
   "source": [
    "Vmodel.mod.ub = 0.6\n",
    "Vmodel.conc.freeze(50)\n",
    "\n",
    "print(Vmodel)"
   ]
  },
  {
   "cell_type": "markdown",
   "metadata": {},
   "source": [
    "which can be easily reverted"
   ]
  },
  {
   "cell_type": "code",
   "execution_count": null,
   "metadata": {},
   "outputs": [],
   "source": [
    "Vmodel.mod.ub = 1\n",
    "Vmodel.conc.unfreeze()\n",
    "\n",
    "print(Vmodel)"
   ]
  },
  {
   "cell_type": "markdown",
   "metadata": {},
   "source": [
    "### Constraining the model based on experimental pulse delays\n",
    "\n",
    "The refocusing times can be strongly constrained by knowing the experimental pulse sequence delays used to acquire the data. If the experiment used to acquire the data is known, as well as its pulse delays, then it is strongly recommended do so.\n",
    "\n",
    "DeerLab provides a selection of experimental information generators for some of the most widely employed experimental methods. These are functions that take the pulse sequence delays, and return an object with specific information about the experiment. This can be passed to the ``dipolarmodel`` function via the ``experiment`` keyword argument, to incorporate the experiment information on the model and constrain some of its parameters. \n",
    "\n",
    "These experiment models can also be used to easily and robustly introduce further dipolar pathways into the model. We will explore this later. \n",
    "\n",
    "For example, for the 4-pulse DEER experiment, the corresponding model (as shown in the documentation) is: \n",
    "\n",
    "<img src=\"https://raw.githubusercontent.com/JeschkeLab/DeerLabWorkshop2022/main/images/4pdeer_pathways_docs.png\" alt=\"drawing\" style=\"width:900px;\"/>\n",
    "\n",
    "\n",
    "And our pathway of interest is pathway 1 (the \"intended\" pathway) and neglect any other pathways. "
   ]
  },
  {
   "cell_type": "code",
   "execution_count": null,
   "metadata": {},
   "outputs": [],
   "source": [
    "# Experiment details \n",
    "tau1 = 0.5 # μs \n",
    "tau2 = 5.0 # μs \n",
    "\n",
    "my4pdeer = dl.ex_4pdeer(tau1,tau2,pathways=[1])\n",
    "\n",
    "Vmodel = dl.dipolarmodel(t,r, experiment=my4pdeer) \n",
    "\n",
    "print(Vmodel)"
   ]
  },
  {
   "cell_type": "markdown",
   "metadata": {},
   "source": [
    "------------------\n",
    "## Hands-on #2\n",
    "\n",
    "Go to ``Hands-on #2`` on the exercise file: ``03b-deerlab-fitting-handson.ipynb``"
   ]
  },
  {
   "cell_type": "markdown",
   "metadata": {},
   "source": [
    "--------------------------"
   ]
  },
  {
   "cell_type": "markdown",
   "metadata": {},
   "source": [
    "## 4. Fitting the model to the data\n"
   ]
  },
  {
   "cell_type": "markdown",
   "metadata": {},
   "source": [
    "Once a model has been constructed, it can be fitted to the data easily via the ``fit()`` function. DeerLab will automatically take care of deciding which solvers and algorithms are best suited for your model. The fitting can be started just by passing the model and the data:\n",
    "\n",
    "        results = dl.fit(Vmodel,Vexp)\n",
    "\n",
    "By default DeerLab will always estimate the uncertainty in the results based on the curvature of the objective function. This method is fast and provides a good first estimate of the uncertainty. However, the uncertainty is often overestimated by this method. \n",
    "For publication-grade analysis it is recommended to use bootstrapping, which provides the most accurate confidence intervals available. Bootstrapping can be included in your analysis by specifying the ``bootstrap=Nsamples`` keyword argument with a high-enough number of sampled\n",
    "\n",
    "        results = dl.fit(Vmodel,Vexp,bootstrap=1000)\n",
    "\n",
    "Note that bootstrap is a highly costly (and thus slow) approach. It is not recommended to use for first-time analyses. \n",
    "\n"
   ]
  },
  {
   "cell_type": "code",
   "execution_count": null,
   "metadata": {},
   "outputs": [],
   "source": [
    "results = dl.fit(Vmodel,Vexp,verbose=2,ftol=1e-3, regparam=0.0908)\n",
    "# Usually leave the regparam and ftol options to their defaults (here needed due to low resources)"
   ]
  },
  {
   "cell_type": "markdown",
   "metadata": {},
   "source": [
    "For just a quick display of the results, you can use the ``plot()`` method of the ``results`` object that will display a figure with you experimental data, the corresponding fit including confidence bands. This allows a quick visual assessment of whether the model has been correctly fitted to the data. "
   ]
  },
  {
   "cell_type": "code",
   "execution_count": null,
   "metadata": {},
   "outputs": [],
   "source": [
    "results.plot(axis=t,xlabel='t [μs]')\n",
    "plt.show() "
   ]
  },
  {
   "cell_type": "markdown",
   "metadata": {},
   "source": [
    "------------------\n",
    "## Hands-on #3 \n",
    "\n",
    "Go to ``Hands-on #3`` on the exercise file: ``03b-deerlab-fitting-handson.ipynb``"
   ]
  },
  {
   "cell_type": "markdown",
   "metadata": {},
   "source": [
    "--------------------"
   ]
  },
  {
   "cell_type": "markdown",
   "metadata": {},
   "source": [
    "## 5. Fit parameters & Uncertainties"
   ]
  },
  {
   "cell_type": "markdown",
   "metadata": {},
   "source": [
    "For a quick summary of the fit results, including goodness-of-fit statistics and the fitted model parameter values (including 95% confidence intervals), can be accessed by just printing the results object"
   ]
  },
  {
   "cell_type": "code",
   "execution_count": null,
   "metadata": {},
   "outputs": [],
   "source": [
    "print(results)"
   ]
  },
  {
   "cell_type": "markdown",
   "metadata": {},
   "source": [
    "These quantities and their uncertinaties are easily accessed from the ``results`` object by their parameter names.\n",
    "\n",
    "For each parameter in the model and the results object, there will be an associated ``<parameter>Uncert`` quantity that contains an object with all the quantities related to the uncertainty of that parameter. That object contains several quantities such as the uncertainty distribution ``pardist()`` and its descriptions such as the standard deviation ``std`` or median ``median``. \n",
    "\n",
    "Typically the quantity of interest to report on the uncertainty are confidence intervals. These can be easily calculated using the ``ci()`` method of the uncertainty objects. \n",
    "\n",
    "For example to extract the 95%-confidence intervals (bands) of the non-parametric distance distribution:"
   ]
  },
  {
   "cell_type": "code",
   "execution_count": null,
   "metadata": {},
   "outputs": [],
   "source": [
    "# Get the fitted distance distribution\n",
    "Pfit = results.P\n",
    "# Get the uncertainty quantification of the distance distribution\n",
    "Puq = results.PUncert\n",
    "# Get its 95% confidence intervals\n",
    "Pci95 = Puq.ci(95)\n",
    "\n",
    "# Get the lower/upper boundaries of the confidence intervals\n",
    "Pci95_lower = Pci95[:,0]\n",
    "Pci95_upper = Pci95[:,1]\n",
    "\n",
    "# Plot with confindence bands\n",
    "plt.plot(r,Pfit,'b')\n",
    "plt.fill_between(r,Pci95_lower,Pci95_upper,color='b',alpha=0.4)\n",
    "plt.show()"
   ]
  },
  {
   "cell_type": "markdown",
   "metadata": {},
   "source": [
    "Other model parameters can be easily obtained from the ``results`` object as well. "
   ]
  },
  {
   "cell_type": "code",
   "execution_count": null,
   "metadata": {},
   "outputs": [],
   "source": [
    "# Modulation depth\n",
    "mod_fit = results.mod\n",
    "mod_ci95 = results.modUncert.ci(95)\n",
    "\n",
    "# Spin concentration\n",
    "conc_fit = results.conc\n",
    "conc_ci95 = results.concUncert.ci(95)\n",
    "\n",
    "\n",
    "print('Modulation depth:',mod_fit,mod_ci95)\n",
    "print('Spin concentration:',conc_fit,conc_ci95)"
   ]
  },
  {
   "cell_type": "markdown",
   "metadata": {},
   "source": [
    "Usually, many structural biology software require information on descriptors of the distance distribution (such as the mean distance and standard deviation) rather than the full distribution. \n",
    "\n",
    "DeerLab provides an utility function ``diststats`` to obtain a summary of descriptors of the estimated distance distribution (with uncertainties).  "
   ]
  },
  {
   "cell_type": "code",
   "execution_count": null,
   "metadata": {},
   "outputs": [],
   "source": [
    "stats = dl.diststats(r,Pfit,Puq,verbose=True)"
   ]
  },
  {
   "cell_type": "markdown",
   "metadata": {},
   "source": [
    "------------------\n",
    "## Hands-on #4 \n",
    "\n",
    "Go to ``Hands-on #4`` on the exercise file: ``03b-deerlab-fitting-handson.ipynb``"
   ]
  },
  {
   "cell_type": "markdown",
   "metadata": {},
   "source": [
    "## Compactness regularization for robust analyses\n",
    "\n"
   ]
  },
  {
   "cell_type": "markdown",
   "metadata": {},
   "source": [
    "We will now consider the same 4-pulse DEER signal we just analyzed, but will artificially truncate it to 3μs. For noisy experimental traces of insufficient length, the separation of the background is not unique, leading to identifiability problems (ill-posedness) for the background model parameters and the long-distance region of the intra-molecular distance distribution. In its latest versions, DeerLab introduced a regularization approach that mitigates this by including an additional penalty term in the objective function that is proportional to the variance of the distance distribution and thereby penalizes non-compact distributions. \n",
    "\n",
    "This has been shown to provide a reliable and robust approach to analyzing dipolar signals, and makes the definition of the ``r`` vector arbitrary. Its use is highly recommended to ensure a unique and robust analysis of the data. The only drawback, is the additional computation cost associated to an additional regularization penalty. See [DOI:10.1016/j.jmr.2022.107218](https://doi.org/10.1016/j.jmr.2022.107218) for details. \n",
    "\n",
    "In this demonstration we will quickly show the symptoms of a non-identifiable analysis and its treatment via the compactness criterion. \n",
    "\n",
    "First, let's load, pre-process, and construct the model of the data."
   ]
  },
  {
   "cell_type": "code",
   "execution_count": null,
   "metadata": {},
   "outputs": [],
   "source": [
    "# File location\n",
    "path = '../data/'\n",
    "file = 'example_4pdeer_1.DTA'\n",
    "\n",
    "# Experimental parameters\n",
    "tau1 = 0.3      # First inter-pulse delay, μs\n",
    "tau2 = 4.0      # Second inter-pulse delay, μs\n",
    "t0 = 0.1        # Acquisition delay, μs\n",
    "\n",
    "# Load the experimental data\n",
    "t,Vexp = dl.deerload(path + file)\n",
    "\n",
    "# Pre-processing\n",
    "Vexp = dl.correctphase(Vexp) # Phase correction\n",
    "Vexp = Vexp/np.max(Vexp)     # Rescaling (aesthetic)\n",
    "t = t - min(t) + t0          # Account for delay\n",
    "\n",
    "# Artifically truncate the signal\n",
    "Vexp = Vexp[t<=3]\n",
    "t = t[t<=3]\n",
    "\n",
    "# Distance vector\n",
    "r = np.arange(1.5,7,0.05) # nm\n",
    "\n",
    "# Construct the model\n",
    "Vmodel = dl.dipolarmodel(t,r, experiment=dl.ex_4pdeer(tau1,tau2, pathways=[1]))\n",
    "\n",
    "plt.plot(t,Vexp,'k.')\n",
    "plt.show()"
   ]
  },
  {
   "cell_type": "markdown",
   "metadata": {},
   "source": [
    "The following is just a function definition to quickly plot a nice figure with the dipolar signal and distance distribution fits. More examples of these figures can be found in the documentation examples."
   ]
  },
  {
   "cell_type": "code",
   "execution_count": null,
   "metadata": {},
   "outputs": [],
   "source": [
    "def plot_all(results):\n",
    "    # Extract fitted dipolar signal\n",
    "    Vfit = results.model\n",
    "    Vci = results.modelUncert.ci(95)\n",
    "\n",
    "    # Extract fitted distance distribution\n",
    "    Pfit = results.P\n",
    "    Pci95 = results.PUncert.ci(95)\n",
    "    Pci50 = results.PUncert.ci(50)\n",
    "\n",
    "    # Extract the unmodulated contribution\n",
    "    Bfcn = lambda mod,conc: results.P_scale*(1-mod)*dl.bg_hom3d(t,conc,mod)\n",
    "    Bfit = Bfcn(results.mod,results.conc)\n",
    "    Bci = results.propagate(Bfcn).ci(95)\n",
    "\n",
    "    plt.figure(figsize=[8,7])\n",
    "    plt.subplot(2,2,1)\n",
    "    # Plot experimental and fitted data\n",
    "    plt.plot(t,Vexp,'.',color='grey',label='Data')\n",
    "    plt.plot(t,Vfit,linewidth=3,color='b',label='Fit')\n",
    "    plt.fill_between(t,Vci[:,0],Vci[:,1],color='b',alpha=0.3)\n",
    "    plt.plot(t,Bfit,'--',linewidth=3,color='b',label='Unmodulated contribution')\n",
    "    plt.fill_between(t,Bci[:,0],Bci[:,1],color='b',alpha=0.3)\n",
    "    plt.legend(frameon=False,loc='best')\n",
    "    plt.xlabel('Time $t$ (μs)')\n",
    "    plt.ylabel('$V(t)$ (arb.u.)')\n",
    "    # Plot the distance distribution\n",
    "    plt.subplot(2,2,2)\n",
    "    plt.plot(r,Pfit,color='b',linewidth=3,label='Fit')\n",
    "    plt.fill_between(r,Pci95[:,0],Pci95[:,1],alpha=0.3,color='b',label='95%-Conf. Inter.',linewidth=0)\n",
    "    plt.fill_between(r,Pci50[:,0],Pci50[:,1],alpha=0.5,color='b',label='50%-Conf. Inter.',linewidth=0)\n",
    "    plt.legend(frameon=False,loc='best')\n",
    "    plt.autoscale(enable=True, axis='both', tight=True)\n",
    "    plt.ylim([0,2.5])\n",
    "    plt.xlabel('Distance $r$ (nm)')\n",
    "    plt.ylabel('$P(r)$ (nm$^{-1}$)')\n",
    "    plt.tight_layout()\n",
    "    plt.show()"
   ]
  },
  {
   "cell_type": "code",
   "execution_count": null,
   "metadata": {},
   "outputs": [],
   "source": [
    "# Fit the model to the data without compactness criterion\n",
    "results = dl.fit(Vmodel,Vexp, regparam=0.02, ftol=1e-3)\n",
    "# Usually leave the regparam and ftol options to their defaults (here needed due to low resources)\n",
    "\n",
    "print(results)\n",
    "plot_all(results)"
   ]
  },
  {
   "cell_type": "code",
   "execution_count": null,
   "metadata": {},
   "outputs": [],
   "source": [
    "# Define the compactness penalty\n",
    "compactness = dl.dipolarpenalty(Pmodel=None,r=r,type='compactness')\n",
    "compactness.weight.freeze(0.009) # Remove this line for automatic optimization of the penalty weight\n",
    "\n",
    "# Fit the model to the data with compactness criterion\n",
    "results = dl.fit(Vmodel,Vexp, penalties=compactness, regparam=0.02, ftol=1e-3)\n",
    "# Usually leave the regparam and ftol options to their defaults (here needed due to low resources)\n",
    "\n",
    "print(results)\n",
    "plot_all(results)"
   ]
  },
  {
   "cell_type": "code",
   "execution_count": null,
   "metadata": {},
   "outputs": [],
   "source": []
  }
 ],
 "metadata": {
  "kernelspec": {
   "display_name": "Python 3.9.5 64-bit",
   "language": "python",
   "name": "python3"
  },
  "language_info": {
   "codemirror_mode": {
    "name": "ipython",
    "version": 3
   },
   "file_extension": ".py",
   "mimetype": "text/x-python",
   "name": "python",
   "nbconvert_exporter": "python",
   "pygments_lexer": "ipython3",
   "version": "3.9.5"
  },
  "orig_nbformat": 4,
  "vscode": {
   "interpreter": {
    "hash": "81794d4967e6c3204c66dcd87b604927b115b27c00565d3d43f05ba2f3a2cb0d"
   }
  }
 },
 "nbformat": 4,
 "nbformat_minor": 2
}
