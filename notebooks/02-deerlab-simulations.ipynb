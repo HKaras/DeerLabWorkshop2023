{
 "cells": [
  {
   "cell_type": "markdown",
   "metadata": {},
   "source": [
    "# Part 2: Simulating with DeerLab models"
   ]
  },
  {
   "cell_type": "code",
   "execution_count": null,
   "metadata": {},
   "outputs": [],
   "source": [
    "import numpy as np \n",
    "import matplotlib.pyplot as plt \n",
    "import deerlab as dl"
   ]
  },
  {
   "cell_type": "markdown",
   "metadata": {},
   "source": [
    "### Learning Objectives of Part 2\n",
    "\n",
    "- To obtain a basic understanding of the structure of models in DeerLab \n",
    "- To be able to simulate simple dipolar signals for experiments such as 4-pulse DEER\n",
    "- To understand how to simulate individual componets of a dipolar signals such as distance distributions, or background functions."
   ]
  },
  {
   "cell_type": "markdown",
   "metadata": {},
   "source": [
    "---------------------"
   ]
  },
  {
   "cell_type": "markdown",
   "metadata": {},
   "source": [
    "## 1. DeerLab models, the basics"
   ]
  },
  {
   "cell_type": "markdown",
   "metadata": {},
   "source": [
    "All DeerLab models consist of a set of parameters. Each parameter will always have the following properties that can be modified at any point (we will see how later):\n",
    "\n",
    "- ``Start``\n",
    "    The start values at which the parameters search start during fitting and optimization. \n",
    "\n",
    "- ``Lower/Upper``\n",
    "    The upper/lower bounds of the parameter that constrain the parameter values during fitting and optimization.\n",
    "\n",
    "- ``Frozen``\n",
    "    Whether a parameter is frozen to a specific value. Freezing refers to setting a parameter to a static value and to be omitted during the fitting routines. \n",
    "\n",
    "- ``Constants`` Any quantities required by the model to be calculated but that are not considered parameters and thus kept constant during the fitting routines.\n",
    "\n",
    "- ``Signature`` The order in which to pass the parameters in order to evaluate the model at specific values. \n",
    "\n",
    "You can quickly and easily inspect all the model properties by displaying the model's summary using the ``print()`` function.  "
   ]
  },
  {
   "cell_type": "code",
   "execution_count": null,
   "metadata": {},
   "outputs": [],
   "source": [
    "# Print the summary of the Gaussian distance distirbution model\n",
    "print(dl.dd_gauss)"
   ]
  },
  {
   "cell_type": "code",
   "execution_count": null,
   "metadata": {},
   "outputs": [],
   "source": [
    "# Define vector of interspin distances\n",
    "r = np.arange(1,10,0.05) # nm, 0.05nm resolution\n",
    "\n",
    "rmean = 4 # Mean distance, nm\n",
    "rstd = 0.3 # Standard deviation of distances, nm  \n",
    "\n",
    "# Evaluate the model using positional arguments (order of arguments is important)\n",
    "P = dl.dd_gauss(r,rmean,rstd)\n",
    "\n",
    "# EValuate the model using keyword arguments (order of arguments is not important)\n",
    "P = dl.dd_gauss(mean=rmean, std=rstd, r=r)\n",
    "\n",
    "plt.plot(r,P,'b')\n",
    "plt.xlabel('r [nm]')\n",
    "plt.ylabel('P(r) [nm$^{-1}$]')\n",
    "plt.show()"
   ]
  },
  {
   "cell_type": "markdown",
   "metadata": {},
   "source": [
    "The same applies to background models"
   ]
  },
  {
   "cell_type": "code",
   "execution_count": null,
   "metadata": {},
   "outputs": [],
   "source": [
    "# Print the summary of the Gaussian distance distirbution model\n",
    "print(dl.bg_hom3d)"
   ]
  },
  {
   "cell_type": "code",
   "execution_count": null,
   "metadata": {},
   "outputs": [],
   "source": [
    "# Define vector of interspin distances\n",
    "t = np.arange(-1,5,0.008) # μs, 8ns resolution\n",
    "\n",
    "conc = 150 # Spin concentration, μM\n",
    "mod = 0.3 # Modulation depth \n",
    "\n",
    "# Evaluate the model using positional arguments (order of arguments is important)\n",
    "B = dl.bg_hom3d(t,conc,mod)\n",
    "\n",
    "# EValuate the model using keyword arguments (order of arguments is not important)\n",
    "B = dl.bg_hom3d(lam=mod, conc=conc, t=t)\n",
    "\n",
    "plt.plot(t,B,'b')\n",
    "plt.xlabel('t [μs]')\n",
    "plt.ylabel('B(t)')\n",
    "plt.show()"
   ]
  },
  {
   "cell_type": "markdown",
   "metadata": {},
   "source": [
    "**Remember:** All dipolar EPR-related models in DeerLab define **time units in microseconds** and **distance units in nanometers**!\n",
    "\n",
    "\n",
    "You can get more detailed information and tutorials on how DeerLab's models work and how to contruct you own models using the [following documentation](https://jeschkelab.github.io/DeerLab/modelling_guide.html). "
   ]
  },
  {
   "cell_type": "markdown",
   "metadata": {},
   "source": [
    "-----------"
   ]
  },
  {
   "cell_type": "markdown",
   "metadata": {},
   "source": [
    "## Hands-on #1: Simulating a distance distribution\n",
    "\n",
    "Simulate a distance distribution $P(r)$ modeled as bimodal Gaussian distribution with one Gaussian centered about 5.4nm with a standard deviation of 0.42nm and the other with Gaussian centered about 4.4nm with a standard deviation of 0.25nm. The two Gaussians have an amplitude ratio of 1:2.\n",
    "\n",
    "First, check the details on the model by printing it."
   ]
  },
  {
   "cell_type": "code",
   "execution_count": null,
   "metadata": {},
   "outputs": [],
   "source": [
    "# <your script goes here>"
   ]
  },
  {
   "cell_type": "markdown",
   "metadata": {},
   "source": [
    "Next, simulate the distribution and make a plot $r$ vs $P(r)$ using the Matplotlib package."
   ]
  },
  {
   "cell_type": "code",
   "execution_count": null,
   "metadata": {},
   "outputs": [],
   "source": [
    "# <your script goes here>"
   ]
  },
  {
   "cell_type": "markdown",
   "metadata": {},
   "source": [
    "-------------"
   ]
  },
  {
   "cell_type": "markdown",
   "metadata": {},
   "source": [
    "# 2. Dipolar signal models"
   ]
  },
  {
   "cell_type": "markdown",
   "metadata": {},
   "source": [
    "To construct a model of a dipolar signal, DeerLab provides the ``dipolarmodel`` function, which will contruct different dipolar models based on your needs. The minimum information that you need to provide to ``dipolarmodel`` is the vector of dipolar evolution times $t$ and the vector of interspin distances $r$.  By doing so, ``dipolarmodel`` will construct a single-pathway dipolar model (the same model used in all other software such as DeerAnalysis, LongDistances, etc.) with a non-parametric distance distribution."
   ]
  },
  {
   "cell_type": "code",
   "execution_count": null,
   "metadata": {},
   "outputs": [],
   "source": [
    "\n",
    "rmin = 1  # nm\n",
    "rmax = 7 # nm\n",
    "dr = 0.05 # nm\n",
    "r = np.arange(rmin,rmax,dr)\n",
    "\n",
    "tau1 = 0.5 # μs\n",
    "tau2 = 6.0 # μs\n",
    "dt = 0.008 # μs\n",
    "t = np.arange(0,tau1+tau2,dt)\n",
    "\n",
    "# Construct a single pathway model\n",
    "Vmodel = dl.dipolarmodel(t,r)\n",
    "# This is equivalent to... \n",
    "Vmodel = dl.dipolarmodel(t,r, Pmodel=None, Bmodel=dl.bg_hom3d)\n",
    "\n",
    "print(Vmodel)\n"
   ]
  },
  {
   "cell_type": "markdown",
   "metadata": {},
   "source": [
    "The function ``dipolarsignal`` allows you to easily switch between different models of the distance distribution and the background. These can be specified via the ``Pmodel`` and ``Bmodel`` arguments. "
   ]
  },
  {
   "cell_type": "code",
   "execution_count": null,
   "metadata": {},
   "outputs": [],
   "source": [
    "# Dipolar signal model with a Gaussian distance distribution and a homogeneous 3D-background model\n",
    "Vmodel = dl.dipolarmodel(t,r,Pmodel=dl.dd_gauss)\n",
    "print(Vmodel)"
   ]
  },
  {
   "cell_type": "code",
   "execution_count": null,
   "metadata": {},
   "outputs": [],
   "source": [
    "# Dipolar signal model with a non-paremtric distance distribution and an exponential phenomenological background \n",
    "Vmodel = dl.dipolarmodel(t,r,Bmodel=dl.bg_exp)\n",
    "print(Vmodel)"
   ]
  },
  {
   "cell_type": "code",
   "execution_count": null,
   "metadata": {},
   "outputs": [],
   "source": [
    "# Dipolar signal model with a random coil distance distribution and a phenomenological stretched exponential\n",
    "Vmodel = dl.dipolarmodel(t,r,Pmodel=dl.dd_randcoil,Bmodel=dl.bg_strexp)\n",
    "print(Vmodel)"
   ]
  },
  {
   "cell_type": "markdown",
   "metadata": {},
   "source": [
    "Now, let's simulate a 4-pulse DEER signal measured on some biradical system with an interspin distance distributed according to a worm-like chain model (contour length of 3.6nm and a persistence length of 9nm) with a spin concentration of 50μM. Since it is a 4-pulse DEER experiment, the main pathway contribution's refocusing time (i.e. zero-time) must be at $t=\\tau_1$ and we will assume a modulation depth of 35%.  "
   ]
  },
  {
   "cell_type": "code",
   "execution_count": null,
   "metadata": {},
   "outputs": [],
   "source": [
    "# Model parameters\n",
    "persistence = 5 # nm\n",
    "contour = 3.6 # nm\n",
    "moddepth = 0.35 \n",
    "reftime = tau1 # μs\n",
    "spinconc = 50  # μM\n",
    "\n",
    "# Construct the dipolar signal model \n",
    "Vmodel = dl.dipolarmodel(t,r,Pmodel=dl.dd_wormchain, Bmodel=dl.bg_hom3d)\n",
    "\n",
    "# Simulate the dipolar signal\n",
    "Vsim = Vmodel(mod=moddepth, reftime=tau1, conc=spinconc, contour=contour, persistence=persistence, scale=1) \n",
    "\n",
    "# Plot the dipolar signal\n",
    "plt.figure(figsize=[10,3])\n",
    "plt.subplot(121)\n",
    "plt.plot(t,Vsim,'k')\n",
    "plt.xlabel('t [μs]')\n",
    "plt.ylabel('V(t)')\n",
    "\n",
    "plt.subplot(122)\n",
    "P = dl.dd_wormchain(r,contour,persistence)\n",
    "plt.plot(r,P,'k')\n",
    "plt.xlabel('r [nm]')\n",
    "plt.ylabel('P(r)')\n",
    "\n",
    "plt.tight_layout()\n",
    "plt.show()\n",
    "\n",
    "\n"
   ]
  },
  {
   "cell_type": "markdown",
   "metadata": {},
   "source": [
    "To more accurately simulate an experimental signal, we can add some noise randomly sampled from a Gaussian distribution with a standard deviation of $\\sigma$=0.005."
   ]
  },
  {
   "cell_type": "code",
   "execution_count": null,
   "metadata": {},
   "outputs": [],
   "source": [
    "# Add white Gaussian noise to the simulated signal\n",
    "Vnoisy = Vsim + dl.whitegaussnoise(t,std=0.005,seed=1)\n",
    "\n",
    "# Plot the dipolar signal\n",
    "plt.plot(t,Vnoisy,'k.')\n",
    "plt.xlabel('t [μs]')\n",
    "plt.ylabel('V(t)')\n",
    "plt.show()\n"
   ]
  },
  {
   "cell_type": "markdown",
   "metadata": {},
   "source": [
    "--------------------"
   ]
  },
  {
   "cell_type": "markdown",
   "metadata": {},
   "source": [
    "## Hands-on #2: Simulating a 4-pulse DEER signal\n",
    "\n",
    "![title](https://jeschkelab.github.io/DeerLab/_images/sequence_4pdeer.svg)\n",
    "\n",
    "We want to study via simulations, what kind of 4-pulse DEER signals we can expect from a ``75μM`` solution of linear biradical molecules. The distribution of interspin distances in these molecules is well approximated by a Gaussian model with a mean distance of ``4nm`` and a standard deviation of ``0.2nm``. We will set our 4-pulse DEER experiments with $\\tau_1$=0.3μs and $\\tau_2$=3μs, record our signal using ``16ns`` steps, and expect our modulation depth to be roughly ``15%``. \n",
    " \n",
    "Note:\n",
    "- The 4-pulse DEER main contribution its refocusing time at $t=\\tau_1$.\n",
    "- The spin concentration is (ideally) twice the molecular concentration"
   ]
  },
  {
   "cell_type": "code",
   "execution_count": null,
   "metadata": {},
   "outputs": [],
   "source": [
    "\n",
    "# Construct the dipolar time evolution vector\n",
    "tau1 = 0.3 # μs\n",
    "tau2 = 3   # μs\n",
    "dt = 0.016 # μs\n",
    "t = np.arange(0,tau1+tau2,dt)\n",
    "\n",
    "# Construct the vector of interspin distances\n",
    "rmin = 1  # nm\n",
    "rmax = 10 # nm\n",
    "dr = 0.05 # nm\n",
    "r = np.arange(rmin,rmax,dr)\n",
    "\n",
    "# <your script goes here>"
   ]
  },
  {
   "cell_type": "markdown",
   "metadata": {},
   "source": [
    "----------------"
   ]
  },
  {
   "cell_type": "markdown",
   "metadata": {},
   "source": [
    "## 3. Dipolar models with multiple pathway contributions\n",
    "\n",
    "Dipolar signals can be described as a combination of contributions arising from different dipolar pathways. The intramolecular contribution consists of a sum and the intermolecular contribution consists of a product over individual dipolar pathway contributions. Each pathway has a characteristic refocusing time (point in time ``t`` where the pathway's contribution is largest) and amplitude. \n",
    "\n",
    "For example, for the 4-pulse DEER experiment, the possible dipolar pathways are:\n",
    "\n",
    "<img src=\"https://github.com/JeschkeLab/DeerLabWorkshop2022/raw/main/images/pathways_scheme.png\" alt=\"drawing\" style=\"width:500px;\"/>\n"
   ]
  },
  {
   "cell_type": "markdown",
   "metadata": {},
   "source": [
    "In this demonstration we will see how to simulate a 4-pulse DEER signal with additional pathway contributions due to, e.g., pulse excitation overlap. These additional contributions have their largest contributions at the edges of the signal. Specifically the refocusing times of these pathways are: \n",
    "\n",
    "| Pathway | Refocusing time | Description | \n",
    "| :---: | ------ | -------------- |\n",
    "| 1 | $t = \\tau_1$ | Main contribution |\n",
    "| 2 | $t = \\tau_1+\\tau_2$ | \"2+1\" contribution | \n",
    "| 3 | $t = 0$  | \"Inverse 2+1\" contribution | \n",
    "| 4 | $t = \\tau_2$ | No description  | \n",
    "\n",
    "For the simulation we will use $\\tau_1$ = 0.5μs and $\\tau_2$=6μs using 8ns steps, with a Gaussian distance distribution."
   ]
  },
  {
   "cell_type": "code",
   "execution_count": null,
   "metadata": {},
   "outputs": [],
   "source": [
    "rmin = 1  # nm\n",
    "rmax = 10 # nm\n",
    "dr = 0.05 # nm\n",
    "r = np.arange(rmin,rmax,dr)\n",
    "\n",
    "tau1 = 0.5 # μs\n",
    "tau2 = 6.0 # μs\n",
    "dt = 0.008 # μs\n",
    "t = np.arange(0,tau1+tau2,dt)\n",
    "\n",
    "# Construct a three-pathway pathway model\n",
    "Vmodel = dl.dipolarmodel(t,r,Pmodel=dl.dd_gauss,npathways=4)\n",
    "\n",
    "print(Vmodel)\n"
   ]
  },
  {
   "cell_type": "markdown",
   "metadata": {},
   "source": [
    "We will assume that the main contribution has a modulation depth (amplitude) of 25% while the contributions from pathways 2 and 3 have one 1/8th of its amplitude, and pathway 4 to have a negligible amplitude. We will use a spin concentration of 35μM and an average interspin distance of 4nm with a standard deviation of 0.3nm.  "
   ]
  },
  {
   "cell_type": "code",
   "execution_count": null,
   "metadata": {},
   "outputs": [],
   "source": [
    "\n",
    "# Pathways refocusing times\n",
    "reftime1 = tau1\n",
    "reftime2 = tau1+tau2 \n",
    "reftime3 = 0\n",
    "reftime4 = tau2\n",
    "\n",
    "# Pathway amplitudes\n",
    "lam1 = 0.25\n",
    "lam2 = lam1/8\n",
    "lam3 = lam1/8\n",
    "lam4 = 0 \n",
    "\n",
    "# Other parameters\n",
    "conc = 35 # μM\n",
    "rmean = 4 # nm \n",
    "rstd = 0.3 # nm\n",
    "scale = 1\n",
    "\n",
    "Vsim = Vmodel(mean=rmean, std=rstd, conc=conc, scale=scale, \n",
    "                lam1=lam1,lam2=lam2, lam3=lam3, lam4=lam4,\n",
    "                reftime1=reftime1,reftime2=reftime2,reftime3=reftime3,reftime4=reftime4)\n",
    "\n",
    "# Add some noise\n",
    "Vsim = Vsim + dl.whitegaussnoise(t,0.004,seed=1)\n",
    "\n",
    "# Plot the dipolar signal\n",
    "plt.plot(t,Vsim,'k.')\n",
    "plt.xlabel('t [μs]')\n",
    "plt.ylabel('V(t)')\n",
    "plt.show()"
   ]
  },
  {
   "cell_type": "markdown",
   "metadata": {},
   "source": [
    "-----------------"
   ]
  }
 ],
 "metadata": {
  "kernelspec": {
   "display_name": "Python 3.9.5 64-bit",
   "language": "python",
   "name": "python3"
  },
  "language_info": {
   "codemirror_mode": {
    "name": "ipython",
    "version": 3
   },
   "file_extension": ".py",
   "mimetype": "text/x-python",
   "name": "python",
   "nbconvert_exporter": "python",
   "pygments_lexer": "ipython3",
   "version": "3.9.5"
  },
  "orig_nbformat": 4,
  "vscode": {
   "interpreter": {
    "hash": "81794d4967e6c3204c66dcd87b604927b115b27c00565d3d43f05ba2f3a2cb0d"
   }
  }
 },
 "nbformat": 4,
 "nbformat_minor": 2
}
