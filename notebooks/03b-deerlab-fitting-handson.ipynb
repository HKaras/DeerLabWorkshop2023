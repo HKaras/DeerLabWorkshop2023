{
 "cells": [
  {
   "cell_type": "markdown",
   "metadata": {},
   "source": [
    "# Part 3 (Hands-on): Analyzing experimental data with DeerLab"
   ]
  },
  {
   "cell_type": "code",
   "execution_count": null,
   "metadata": {},
   "outputs": [],
   "source": [
    "import numpy as np \n",
    "import matplotlib.pyplot as plt \n",
    "import deerlab as dl"
   ]
  },
  {
   "cell_type": "markdown",
   "metadata": {},
   "source": [
    "On this exercise you will analyze an experimental 4-pulse DEER signal.  The experiment was acquired with the following experimental setup: \n",
    "\n",
    "| Delay | Length | Description | \n",
    "| :---: | :---: | --- |\n",
    "| $\\tau_1$ |  0.3μs |       First inter-pulse delay | \n",
    "| $\\tau_2$ |  4.0μs  |      Second inter-pulse delay | \n",
    "| $t_0$ |  0.1μs |   Acquisition delay | \n"
   ]
  },
  {
   "cell_type": "markdown",
   "metadata": {},
   "source": [
    "### Hands-on #1: Loading and pre-processing experimental dipolar EPR data\n",
    "\n",
    "Load the experimental 4-pulse DEER dipolar signal ``example_4pdeer_1.DTA`` located in the ``data`` folder of this workshop's workspace.\n",
    "Pre-process the data such that the data is only real-valued and the deadtime of the experiment is accounted for. Plot the resulting pre-processed signal.\n"
   ]
  },
  {
   "cell_type": "code",
   "execution_count": null,
   "metadata": {},
   "outputs": [],
   "source": [
    "# <your script goes here>"
   ]
  },
  {
   "cell_type": "markdown",
   "metadata": {},
   "source": [
    "### Hands-on #2: Constructing the 4-pulse DEER model\n",
    "\n",
    "Construct the appropriate model of the 4-pulse DEER signal. Adjust the boundaries of the model accordingly if necessary."
   ]
  },
  {
   "cell_type": "code",
   "execution_count": null,
   "metadata": {},
   "outputs": [],
   "source": [
    "# <your script goes here>"
   ]
  },
  {
   "cell_type": "markdown",
   "metadata": {},
   "source": [
    "### Hands-on #3: Fitting the model to the data\n",
    "\n",
    "Fit your model to the experimental data. Check the the fit of the model to the data by plotting the results.\n",
    "\n",
    "*Note:* Use the keyword arguments ``ftol=1e-3`` and ``regparam=0.0908`` with the ``fit`` function to speedup the computation (due to low resources on JupyterLab)."
   ]
  },
  {
   "cell_type": "code",
   "execution_count": null,
   "metadata": {},
   "outputs": [],
   "source": [
    "# <your script goes here>"
   ]
  },
  {
   "cell_type": "markdown",
   "metadata": {},
   "source": [
    "### Hands-on #4: Extracting results and uncertainties\n",
    "\n",
    "Examine the values of the fitted parameters and their uncertainties. "
   ]
  },
  {
   "cell_type": "code",
   "execution_count": null,
   "metadata": {},
   "outputs": [],
   "source": [
    "# <your script goes here>"
   ]
  },
  {
   "cell_type": "markdown",
   "metadata": {},
   "source": [
    "Plot the fitted distribution along its 95%-confidence band. How many modes does the estimated distance distribution have, and what is the median distance? "
   ]
  },
  {
   "cell_type": "code",
   "execution_count": null,
   "metadata": {},
   "outputs": [],
   "source": [
    "# <your script goes here>"
   ]
  },
  {
   "cell_type": "markdown",
   "metadata": {},
   "source": [
    "---------------"
   ]
  }
 ],
 "metadata": {
  "kernelspec": {
   "display_name": "Python 3.9.5 64-bit",
   "language": "python",
   "name": "python3"
  },
  "language_info": {
   "codemirror_mode": {
    "name": "ipython",
    "version": 3
   },
   "file_extension": ".py",
   "mimetype": "text/x-python",
   "name": "python",
   "nbconvert_exporter": "python",
   "pygments_lexer": "ipython3",
   "version": "3.9.5"
  },
  "orig_nbformat": 4,
  "vscode": {
   "interpreter": {
    "hash": "81794d4967e6c3204c66dcd87b604927b115b27c00565d3d43f05ba2f3a2cb0d"
   }
  }
 },
 "nbformat": 4,
 "nbformat_minor": 2
}
