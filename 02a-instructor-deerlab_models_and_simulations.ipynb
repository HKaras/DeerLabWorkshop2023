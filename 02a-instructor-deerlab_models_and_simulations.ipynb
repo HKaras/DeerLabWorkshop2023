{
 "cells": [
  {
   "cell_type": "markdown",
   "metadata": {},
   "source": [
    "# Part 2: Simulating with DeerLab models"
   ]
  },
  {
   "cell_type": "code",
   "execution_count": 1,
   "metadata": {},
   "outputs": [],
   "source": [
    "import numpy as np \n",
    "import matplotlib.pyplot as plt \n",
    "import deerlab as dl"
   ]
  },
  {
   "cell_type": "markdown",
   "metadata": {},
   "source": [
    "## Learning Objectives of Part 2\n",
    "\n",
    "- To obtain a basic understanding of the structure of models in DeerLab \n",
    "- To be able to simulate simple dipolar signals for experiments such as 4-pulse DEER\n",
    "- To understand how to simulate individual componets of a dipolar signals such as distance distributions, or background functions."
   ]
  },
  {
   "cell_type": "markdown",
   "metadata": {},
   "source": [
    "---------------------"
   ]
  },
  {
   "cell_type": "markdown",
   "metadata": {},
   "source": [
    "## DeerLab models, the basics"
   ]
  },
  {
   "cell_type": "markdown",
   "metadata": {},
   "source": [
    "All DeerLab models consist of a set of parameters. Each parameter will always have the following properties that can be modified at any point (we will see how later):\n",
    "\n",
    "- ``Start``\n",
    "    The start values at which the parameters search start during fitting and optimization. \n",
    "\n",
    "- ``Lower/Upper``\n",
    "    The upper/lower bounds of the parameter that constrain the parameter values during fitting and optimization.\n",
    "\n",
    "- ``Frozen``\n",
    "    Whether a parameter is frozen to a specific value. Freezing refers to setting a parameter to a static value and to be omitted during the fitting routines. \n",
    "\n",
    "- ``Constants`` Any quantities required by the model to be calculated but that are not considered parameters and thus kept constant during the fitting routines.\n",
    "\n",
    "- ``Signature`` The order in which to pass the parameters in order to evaluate the model at specific values. \n",
    "\n",
    "You can quickly and easily inspect all the model properties by displaying the model's summary using the ``print()`` function.  "
   ]
  },
  {
   "cell_type": "code",
   "execution_count": 3,
   "metadata": {},
   "outputs": [
    {
     "name": "stdout",
     "output_type": "stream",
     "text": [
      "Description: Gaussian distribution model\n",
      "Signature: (r, mean, std)\n",
      "Constants: [r]\n",
      "Parameter Table: \n",
      "====== ======= ======= ======== ======== ====== ==================== \n",
      " Name   Lower   Upper    Type    Frozen   Unit   Description         \n",
      "====== ======= ======= ======== ======== ====== ==================== \n",
      " mean       1      20   nonlin     No      nm    Mean                \n",
      " std     0.05     2.5   nonlin     No      nm    Standard deviation  \n",
      "====== ======= ======= ======== ======== ====== ==================== \n"
     ]
    }
   ],
   "source": [
    "# Print the summary of the Gaussian distance distirbution model\n",
    "print(dl.dd_gauss)"
   ]
  },
  {
   "cell_type": "code",
   "execution_count": 34,
   "metadata": {},
   "outputs": [
    {
     "data": {
      "image/png": "[encoded data removed]",
      "text/plain": [
       "<Figure size 432x288 with 1 Axes>"
      ]
     },
     "metadata": {
      "needs_background": "light"
     },
     "output_type": "display_data"
    }
   ],
   "source": [
    "\n",
    "\n",
    "# Define vector of interspin distances\n",
    "r = np.arange(1,10,0.05) # nm, 0.05nm resolution\n",
    "\n",
    "rmean = 4 # Mean distance, nm\n",
    "rstd = 0.3 # Standard deviation of distances, nm  \n",
    "\n",
    "# Evaluate the model using positional arguments (order of arguments is important)\n",
    "P = dl.dd_gauss(r,rmean,rstd)\n",
    "\n",
    "# EValuate the model using keyword arguments (order of arguments in not important)\n",
    "P = dl.dd_gauss(mean=rmean, std=rstd, r=r)\n",
    "\n",
    "plt.plot(r,P)\n",
    "plt.xlabel('r [nm]')\n",
    "plt.ylabel('P(r) [nm$^{-1}$]')\n",
    "plt.show()"
   ]
  },
  {
   "cell_type": "markdown",
   "metadata": {},
   "source": [
    "**Remember:** All dipolar EPR-related models in DeerLab define **time units in microseconds** and **distance units in nanometers**!\n",
    "\n",
    "\n",
    "You can get more detailed information and tutorials on how DeerLab's models work and how to contruct you own models using the [following documentation](https://jeschkelab.github.io/DeerLab/modelling_guide.html). "
   ]
  },
  {
   "cell_type": "markdown",
   "metadata": {},
   "source": [
    "-----------"
   ]
  },
  {
   "cell_type": "markdown",
   "metadata": {},
   "source": [
    "## Hands-on: Simulating a distance distribution\n",
    "\n",
    "Simulate a distance distribution `P(r)` modeled as skewed Gaussian centered about 5.4nm with a spread of 0.55nm and a skewness factor of -5.  \n",
    "First, check the detail on the model by printing it. Next, simulate the distribution and make a plot `r` vs `P(r)` using the Matplotlib package."
   ]
  },
  {
   "cell_type": "code",
   "execution_count": 10,
   "metadata": {},
   "outputs": [
    {
     "name": "stdout",
     "output_type": "stream",
     "text": [
      "Description: Skew Gaussian distribution model\n",
      "Signature: (r, center, std, skew)\n",
      "Constants: [r]\n",
      "Parameter Table: \n",
      "======== ======= ======= ======== ======== ====== ============= \n",
      " Name     Lower   Upper    Type    Frozen   Unit   Description  \n",
      "======== ======= ======= ======== ======== ====== ============= \n",
      " center       1      20   nonlin     No      nm    Center       \n",
      " std       0.05     2.5   nonlin     No      nm    Spread       \n",
      " skew       -25      25   nonlin     No            Skewness     \n",
      "======== ======= ======= ======== ======== ====== ============= \n"
     ]
    }
   ],
   "source": [
    "# Get info on the model\n",
    "print(dl.dd_skewgauss)"
   ]
  },
  {
   "cell_type": "code",
   "execution_count": 14,
   "metadata": {},
   "outputs": [
    {
     "data": {
      "image/png": "[encoded data removed]",
      "text/plain": [
       "<Figure size 432x288 with 1 Axes>"
      ]
     },
     "metadata": {
      "needs_background": "light"
     },
     "output_type": "display_data"
    }
   ],
   "source": [
    "# Define vector of interspin distances\n",
    "r = np.arange(1,10,0.05) # nm, 0.05nm resolution\n",
    "\n",
    "# Model parameters\n",
    "rcenter = 5.4 # Center distance, nm\n",
    "rspread = 0.55 # Spread of distances, nm\n",
    "skewfactor = -5 # Skewness factor\n",
    "\n",
    "# Call the function using positional arguments \n",
    "P = dl.dd_skewgauss(r,rcenter,rspread,skewfactor)\n",
    "\n",
    "# Call the function using keyword arguments \n",
    "P = dl.dd_skewgauss(r,skew=skewfactor,std=rspread,center=rcenter)\n",
    "\n",
    "plt.plot(r,P)\n",
    "plt.xlabel('r [nm]')\n",
    "plt.ylabel('P(r) [nm$^{-1}$]')\n",
    "plt.show()"
   ]
  },
  {
   "cell_type": "code",
   "execution_count": 4,
   "metadata": {},
   "outputs": [
    {
     "name": "stdout",
     "output_type": "stream",
     "text": [
      "Description: Random-coil model for an unfolded peptide/protein\n",
      "Signature: (r, Nres, scaling, length)\n",
      "Constants: [r]\n",
      "Parameter Table: \n",
      "========= ======= ======= ======== ======== ====== ==================== \n",
      " Name      Lower   Upper    Type    Frozen   Unit   Description         \n",
      "========= ======= ======= ======== ======== ====== ==================== \n",
      " Nres          2   1e+03   nonlin     No            Number of residues  \n",
      " scaling     0.1     0.4   nonlin     No      nm    Segment length      \n",
      " length     0.33       1   nonlin     No            Scaling exponent    \n",
      "========= ======= ======= ======== ======== ====== ==================== \n"
     ]
    }
   ],
   "source": [
    "print(dl.dd_randcoil)"
   ]
  },
  {
   "cell_type": "markdown",
   "metadata": {},
   "source": [
    "-------------"
   ]
  },
  {
   "cell_type": "markdown",
   "metadata": {},
   "source": [
    "# Dipolar signal models"
   ]
  },
  {
   "cell_type": "markdown",
   "metadata": {},
   "source": [
    "To construct a model of a dipolar signal, DeerLab provides the ``dipolarsignal`` function, which will contruct different dipolar models based on your needs. The minimum information that you need to provide to ``dipolarsignal`` is the vector of dipolar evolution times ``t`` and the vector of interspin distances ``r``.  By doing so, ``dipolarsignal`` will construct a single-pathway dipolar model (the same model used in all other software such as DeerAnalysis, LongDistances, etc.) with a non-parametric distance distribution."
   ]
  },
  {
   "cell_type": "code",
   "execution_count": 63,
   "metadata": {},
   "outputs": [
    {
     "name": "stdout",
     "output_type": "stream",
     "text": [
      "Description: Dipolar signal model\n",
      "Signature: (mod, reftime, conc, P)\n",
      "Constants: []\n",
      "Parameter Table: \n",
      "========= ======= ======= ======== ======== ====== ====================================== \n",
      " Name      Lower   Upper    Type    Frozen   Unit   Description                           \n",
      "========= ======= ======= ======== ======== ====== ====================================== \n",
      " mod           0       1   nonlin     No            Modulation depth                      \n",
      " reftime    -inf     inf   nonlin     No      μs    Refocusing time                       \n",
      " conc       0.01   5e+03   nonlin     No      μM    Spin concentration                    \n",
      " P             0     inf   linear     No     nm⁻¹   Non-parametric distance distribution  \n",
      "========= ======= ======= ======== ======== ====== ====================================== \n"
     ]
    }
   ],
   "source": [
    "\n",
    "rmin = 1 #nm\n",
    "rmax = 10 #nm\n",
    "dr = 0.05 #nm\n",
    "r = np.arange(rmin,rmax,dr)\n",
    "\n",
    "tau1 = 0.5 #us\n",
    "tau2 = 6.0 #us\n",
    "dt = 0.008 #us\n",
    "t = np.arange(0,tau1+tau2,dt)\n",
    "\n",
    "# Construct a single pathway model\n",
    "Vmodel = dl.dipolarmodel(t,r)\n",
    "# This is equivalent to... \n",
    "Vmodel = dl.dipolarmodel(t,r, Pmodel=None, Bmodel=dl.bg_hom3d)\n",
    "\n",
    "print(Vmodel)\n"
   ]
  },
  {
   "cell_type": "markdown",
   "metadata": {},
   "source": [
    "The function ``dipolarsignal`` allows you to easily switch between different models of the distance distribution and the background. These can be specified via the ``Pmodel`` and ``Bmodel`` arguments. "
   ]
  },
  {
   "cell_type": "code",
   "execution_count": 64,
   "metadata": {},
   "outputs": [
    {
     "name": "stdout",
     "output_type": "stream",
     "text": [
      "Description: Dipolar signal model\n",
      "Signature: (mod, reftime, conc, mean, std, scale)\n",
      "Constants: []\n",
      "Parameter Table: \n",
      "========= ======= ======= ======== ======== ====== ==================== \n",
      " Name      Lower   Upper    Type    Frozen   Unit   Description         \n",
      "========= ======= ======= ======== ======== ====== ==================== \n",
      " mod           0       1   nonlin     No            Modulation depth    \n",
      " reftime    -inf     inf   nonlin     No      μs    Refocusing time     \n",
      " conc       0.01   5e+03   nonlin     No      μM    Spin concentration  \n",
      " mean          1      20   nonlin     No      nm    Mean                \n",
      " std        0.05     2.5   nonlin     No      nm    Standard deviation  \n",
      " scale         0     inf   linear     No     None   None                \n",
      "========= ======= ======= ======== ======== ====== ==================== \n"
     ]
    }
   ],
   "source": [
    "# Dipolar signal model with a Gaussian distance distribution and a homoegenous 3D-background model\n",
    "Vmodel = dl.dipolarmodel(t,r,Pmodel=dl.dd_gauss)\n",
    "print(Vmodel)"
   ]
  },
  {
   "cell_type": "code",
   "execution_count": 65,
   "metadata": {},
   "outputs": [
    {
     "name": "stdout",
     "output_type": "stream",
     "text": [
      "Description: Dipolar signal model\n",
      "Signature: (mod, reftime, decay, P)\n",
      "Constants: []\n",
      "Parameter Table: \n",
      "========= ======= ======= ======== ======== ====== ====================================== \n",
      " Name      Lower   Upper    Type    Frozen   Unit   Description                           \n",
      "========= ======= ======= ======== ======== ====== ====================================== \n",
      " mod           0       1   nonlin     No            Modulation depth                      \n",
      " reftime    -inf     inf   nonlin     No      μs    Refocusing time                       \n",
      " decay         0     200   nonlin     No     μs⁻¹   Decay rate                            \n",
      " P             0     inf   linear     No     nm⁻¹   Non-parametric distance distribution  \n",
      "========= ======= ======= ======== ======== ====== ====================================== \n"
     ]
    }
   ],
   "source": [
    "# Dipolar signal model with a non-paremtric distance distribution and an exponential phenomenological background \n",
    "Vmodel = dl.dipolarmodel(t,r,Bmodel=dl.bg_exp)\n",
    "print(Vmodel)"
   ]
  },
  {
   "cell_type": "code",
   "execution_count": 66,
   "metadata": {},
   "outputs": [
    {
     "name": "stdout",
     "output_type": "stream",
     "text": [
      "Description: Dipolar signal model\n",
      "Signature: (mod, reftime, conc, mean, std, scale)\n",
      "Constants: []\n",
      "Parameter Table: \n",
      "========= ======= ======= ======== ======== ====== ==================== \n",
      " Name      Lower   Upper    Type    Frozen   Unit   Description         \n",
      "========= ======= ======= ======== ======== ====== ==================== \n",
      " mod           0       1   nonlin     No            Modulation depth    \n",
      " reftime    -inf     inf   nonlin     No      μs    Refocusing time     \n",
      " conc       0.01   5e+03   nonlin     No      μM    Spin concentration  \n",
      " mean          1      20   nonlin     No      nm    Mean                \n",
      " std        0.05     2.5   nonlin     No      nm    Standard deviation  \n",
      " scale         0     inf   linear     No     None   None                \n",
      "========= ======= ======= ======== ======== ====== ==================== \n"
     ]
    }
   ],
   "source": [
    "# Dipolar signal model with a Gaussian distance distribution \n",
    "Vmodel = dl.dipolarmodel(t,r,Pmodel=dl.dd_gauss)\n",
    "print(Vmodel)"
   ]
  },
  {
   "cell_type": "markdown",
   "metadata": {},
   "source": [
    "Now, let's simulate a 4-pulse DEER signal measured on some biradical system with a Gaussian-distributed interspin distance (mean distance of 4nm with a spread of 0.3nm) and with a spin concentration of 50μM arising. Since it is a 4-pulse DEER experiment, the main pathway contribution's refocusing time (i.e. zero-time) must be at ``t=tau1`` and we will assume a modulation depth of 35%.  "
   ]
  },
  {
   "cell_type": "code",
   "execution_count": 56,
   "metadata": {},
   "outputs": [
    {
     "data": {
      "image/png": "[encoded data removed]",
      "text/plain": [
       "<Figure size 432x288 with 1 Axes>"
      ]
     },
     "metadata": {
      "needs_background": "light"
     },
     "output_type": "display_data"
    }
   ],
   "source": [
    "# Model parameters\n",
    "rmean = 4 # nm\n",
    "rstd = 0.3 # nm\n",
    "moddepth = 0.35 \n",
    "reftime = tau1 # μs\n",
    "spinconc = 50  # μM\n",
    "\n",
    "# Construct the dipolar signal model \n",
    "Vmodel = dl.dipolarmodel(t,r,Pmodel=dl.dd_gauss, Bmodel=dl.bg_hom3d)\n",
    "\n",
    "# Simulate the dipolar signal\n",
    "Vsim = Vmodel(mod=moddepth, reftime=tau1, conc=spinconc, mean=rmean, std=rstd, scale=1) \n",
    "\n",
    "# Plot the dipolar signal\n",
    "plt.plot(t,Vsim,'k')\n",
    "plt.xlabel('t [μs]')\n",
    "plt.ylabel('V(t)')\n",
    "plt.show()\n",
    "\n",
    "\n"
   ]
  },
  {
   "cell_type": "markdown",
   "metadata": {},
   "source": [
    "To more accurately simulate an experimental signal, we can add some noise randomly sampled from a Gaussian distribution with a standard deviation of 0.01."
   ]
  },
  {
   "cell_type": "code",
   "execution_count": 59,
   "metadata": {},
   "outputs": [
    {
     "data": {
      "image/png": "[encoded data removed]",
      "text/plain": [
       "<Figure size 432x288 with 1 Axes>"
      ]
     },
     "metadata": {
      "needs_background": "light"
     },
     "output_type": "display_data"
    }
   ],
   "source": [
    "# Add white Gaussian noise to the simulated signal\n",
    "Vnoisy = Vsim + dl.whitegaussnoise(t,std=0.005,seed=1)\n",
    "\n",
    "# Plot the dipolar signal\n",
    "plt.plot(t,Vnoisy,'k.')\n",
    "plt.xlabel('t [μs]')\n",
    "plt.ylabel('V(t)')\n",
    "plt.show()\n"
   ]
  },
  {
   "cell_type": "markdown",
   "metadata": {},
   "source": [
    "--------------------"
   ]
  },
  {
   "cell_type": "markdown",
   "metadata": {},
   "source": [
    "## Hands-on: Predicting a 4-pulse DEER signal\n",
    "\n",
    "We want to study via simulations, what kind of 4-pulse DEER signals we can expect from a ``75μM`` solution of linear oligomeric biradical molecules. The distribution of interspin distances in these molecules is well approximated by a worm-like chain model (implemented in DeerLab as ``dl.dd_wormchain``) with a contour length of ``3.6nm`` and a persistence length of ``15nm``. We will set our 4-pulse DEER experiments with ``tau1=0.3μs`` and ``tau2=3μs``, record our signal using ``16ns`` steps, and expect our modulation depth to be roughly ``15%``. \n",
    "\n",
    "**How many oscillation periods can we expect in the experimental data?** \n",
    "\n",
    "Simulate the signal and count the oscillation periods. Type your results in the chat.  \n",
    "**Note:** The spin concentration is (ideally) twice the molecular concentration"
   ]
  },
  {
   "cell_type": "code",
   "execution_count": 69,
   "metadata": {},
   "outputs": [
    {
     "data": {
      "image/png": "[encoded data removed]",
      "text/plain": [
       "<Figure size 432x288 with 1 Axes>"
      ]
     },
     "metadata": {
      "needs_background": "light"
     },
     "output_type": "display_data"
    }
   ],
   "source": [
    "\n",
    "# Construct the dipolar time evolution vector\n",
    "tau1 = 0.3\n",
    "tau2 = 3\n",
    "dt = 0.008\n",
    "t = np.arange(0,tau1+tau2,dt)\n",
    "\n",
    "# Construct the vector of interspin distances\n",
    "rmin = 1 #nm\n",
    "rmax = 10 #nm\n",
    "dr = 0.05 #nm\n",
    "r = np.arange(rmin,rmax,dr)\n",
    "\n",
    "# Construct the model\n",
    "Vmodel = dl.dipolarmodel(t,r,Pmodel=dl.dd_wormchain)\n",
    "\n",
    "# Model parameters\n",
    "moddepth = 0.15 \n",
    "reftime = tau1 #μs\n",
    "spinconc = 150  # μM, spin concentration is (ideally) twice the molecular concentration\n",
    "rcontour = 3.6 #nm\n",
    "rpersistence = 15 #nm\n",
    "scale = 1\n",
    "\n",
    "# Simulate the dipolar signal\n",
    "Vsim = Vmodel(mod=moddepth, reftime=tau1, conc=spinconc, contour=rcontour, persistence=rpersistence, scale=scale) \n",
    "\n",
    "# Plot the dipolar signal\n",
    "plt.plot(t,Vsim,'k')\n",
    "plt.xlabel('t [μs]')\n",
    "plt.ylabel('V(t)')\n",
    "plt.show()\n",
    "\n",
    "\n"
   ]
  },
  {
   "cell_type": "code",
   "execution_count": null,
   "metadata": {},
   "outputs": [],
   "source": []
  }
 ],
 "metadata": {
  "kernelspec": {
   "display_name": "Python 3.9.5 64-bit",
   "language": "python",
   "name": "python3"
  },
  "language_info": {
   "codemirror_mode": {
    "name": "ipython",
    "version": 3
   },
   "file_extension": ".py",
   "mimetype": "text/x-python",
   "name": "python",
   "nbconvert_exporter": "python",
   "pygments_lexer": "ipython3",
   "version": "3.9.5"
  },
  "orig_nbformat": 4,
  "vscode": {
   "interpreter": {
    "hash": "81794d4967e6c3204c66dcd87b604927b115b27c00565d3d43f05ba2f3a2cb0d"
   }
  }
 },
 "nbformat": 4,
 "nbformat_minor": 2
}
